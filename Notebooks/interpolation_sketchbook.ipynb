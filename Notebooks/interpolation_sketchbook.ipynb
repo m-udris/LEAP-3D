{
 "cells": [
  {
   "cell_type": "code",
   "execution_count": null,
   "metadata": {},
   "outputs": [],
   "source": [
    "from pathlib import Path\n",
    "\n",
    "import numpy as np\n",
    "import matplotlib.pyplot as plt\n",
    "\n",
    "from leap3d.scanning import ScanParameters, ScanResults\n",
    "from leap3d.config import DATA_DIR, PARAMS_FILEPATH, ROUGH_COORDS_FILEPATH, MELTING_POINT\n",
    "from leap3d.plotting import plot_top_layer_temperature"
   ]
  },
  {
   "cell_type": "code",
   "execution_count": null,
   "metadata": {},
   "outputs": [],
   "source": [
    "scan_params = ScanParameters(PARAMS_FILEPATH, ROUGH_COORDS_FILEPATH, case_index=20)"
   ]
  },
  {
   "cell_type": "code",
   "execution_count": null,
   "metadata": {},
   "outputs": [],
   "source": [
    "case_index = 20\n",
    "case_filename = DATA_DIR / f\"case_{case_index:04}.npz\"\n"
   ]
  },
  {
   "cell_type": "code",
   "execution_count": null,
   "metadata": {},
   "outputs": [],
   "source": [
    "scan_results = ScanResults(case_filename)"
   ]
  },
  {
   "cell_type": "code",
   "execution_count": null,
   "metadata": {},
   "outputs": [],
   "source": [
    "scan_results.get_laser_coordinates_at_timestep(0)"
   ]
  },
  {
   "cell_type": "code",
   "execution_count": null,
   "metadata": {},
   "outputs": [],
   "source": [
    "(x_coords, y_coords, z_coords), interpolated_values = scan_results.get_interpolated_grid_around_laser(2000, 16, 0.25, scan_params, include_high_resolution_points=True)"
   ]
  },
  {
   "cell_type": "code",
   "execution_count": null,
   "metadata": {},
   "outputs": [],
   "source": [
    "(x_coords2, y_coords2, z_coords2), interpolated_values2 = scan_results.get_interpolated_grid_around_laser(2000, 16, 0.25, scan_params, include_high_resolution_points=False)"
   ]
  },
  {
   "cell_type": "code",
   "execution_count": null,
   "metadata": {},
   "outputs": [],
   "source": [
    "assert (x_coords == x_coords2).all()\n",
    "assert (y_coords == y_coords2).all()\n",
    "assert (z_coords == z_coords2).all()"
   ]
  },
  {
   "cell_type": "code",
   "execution_count": null,
   "metadata": {},
   "outputs": [],
   "source": [
    "interpolated_values.shape"
   ]
  },
  {
   "cell_type": "code",
   "execution_count": null,
   "metadata": {},
   "outputs": [],
   "source": [
    "laser_x, laser_y = scan_results.get_laser_coordinates_at_timestep(2000)"
   ]
  },
  {
   "cell_type": "code",
   "execution_count": null,
   "metadata": {},
   "outputs": [],
   "source": [
    "fig, ax = plt.subplots()\n",
    "rough_temps = scan_results.get_rough_temperatures_at_timestep(2000)\n",
    "ax.set_aspect('equal')\n",
    "\n",
    "ax.set_xlim(np.min(x_coords), np.max(x_coords))\n",
    "ax.set_ylim(np.min(y_coords), np.max(y_coords))\n",
    "\n",
    "plot_top_layer_temperature(ax, rough_temps[:, :, -1], scan_params, vmin=0, vmax=MELTING_POINT)\n",
    "# ax.pcolormesh(x_coords, y_coords, interpolated_values.reshape((64, 64)))\n",
    "\n",
    "ax.scatter(laser_x, laser_y, c='r', s=10, marker='x')\n",
    "fig.show()"
   ]
  },
  {
   "cell_type": "code",
   "execution_count": null,
   "metadata": {},
   "outputs": [],
   "source": [
    "fig, ax = plt.subplots()\n",
    "ax.set_aspect('equal')\n",
    "ax.pcolormesh(x_coords, y_coords, interpolated_values.reshape((64, 64)), vmin=0, vmax=MELTING_POINT)\n",
    "\n",
    "ax.scatter(laser_x, laser_y, c='r', s=10, marker='x')\n",
    "fig.show()"
   ]
  },
  {
   "cell_type": "code",
   "execution_count": null,
   "metadata": {},
   "outputs": [],
   "source": [
    "fig, ax = plt.subplots()\n",
    "ax.set_aspect('equal')\n",
    "ax.pcolormesh(x_coords, y_coords, interpolated_values2.reshape((64, 64)), vmin=0, vmax=MELTING_POINT)\n",
    "\n",
    "ax.scatter(laser_x, laser_y, c='r', s=10, marker='x')\n",
    "fig.show()"
   ]
  },
  {
   "cell_type": "code",
   "execution_count": null,
   "metadata": {},
   "outputs": [],
   "source": [
    "from scipy import interpolate\n",
    "\n",
    "scan_parameters = scan_params\n",
    "timestep = 2000\n",
    "step_scale = 1 / 4\n",
    "rough_coordinates = scan_parameters.rough_coordinates\n",
    "x_rough = rough_coordinates['x_rough']\n",
    "y_rough = rough_coordinates['y_rough']\n",
    "z_rough = rough_coordinates['z_rough']\n",
    "grid_points = ([x[0][0] for x in x_rough], [y[0] for y in y_rough[0]], [z for z in z_rough[0][0]])\n",
    "\n",
    "rough_temperature = scan_results.get_rough_temperatures_at_timestep(timestep)\n",
    "\n",
    "points_to_interpolate = scan_parameters.get_coordinates_around_position(laser_x, laser_y, 16,\n",
    "                                                                scale=step_scale, is_3d=False)\n",
    "\n",
    "# if include_high_resolution_points:\n",
    "# points, values = self.get_coordinate_points_and_temperature_at_timestep(scan_parameters, timestep)\n",
    "# interpolated_values = interpolate.griddata(points, values, points_to_interpolate, method='linear')\n",
    "\n",
    "# high_res_points = self.\n",
    "high_res_points, high_res_temps = scan_results.get_melt_pool_coordinates_and_temperature(timestep)\n",
    "\n",
    "step_size = scan_parameters.rough_coordinates_step_size * step_scale\n",
    "half_step = step_size / 2\n",
    "\n",
    "x_min = np.min(x_rough) + half_step\n",
    "x_max = np.max(x_rough) - half_step\n",
    "y_min = np.min(y_rough) + half_step\n",
    "y_max = np.max(y_rough) - half_step\n",
    "z_min = np.min(z_rough)\n",
    "z_max = np.max(z_rough)\n",
    "upscaled_x_range = np.arange(x_min, x_max, step_size)\n",
    "upscaled_y_range = np.arange(y_min, y_max, step_size)\n",
    "upscaled_z_range = np.arange(z_min, z_max + step_size, step_size)\n",
    "\n",
    "upscaled_rough_coordinates = [(x, y, z) for x in upscaled_x_range for y in upscaled_y_range for z in upscaled_z_range]\n",
    "upscaled_rough_temperatures = interpolate.interpn(grid_points, rough_temperature, upscaled_rough_coordinates, method='linear', bounds_error=False, fill_value=None)\n",
    "\n",
    "upscaled_rough_temperatures = upscaled_rough_temperatures.reshape(upscaled_x_range.shape[0], upscaled_y_range.shape[0], upscaled_z_range.shape[0])\n",
    "\n",
    "\n",
    "print(len(high_res_points))\n",
    "print(upscaled_rough_temperatures.shape)\n",
    "for high_res_point, high_res_temp in zip(high_res_points, high_res_temps):\n",
    "    x, y, z = high_res_point\n",
    "    x_index = np.argmin(np.abs(upscaled_x_range - x))\n",
    "    y_index = np.argmin(np.abs(upscaled_y_range - y))\n",
    "    z_index = np.argmin(np.abs(upscaled_z_range - z))\n",
    "    print(x_index, y_index, z_index)\n",
    "    print(step_size, np.min(np.abs(upscaled_x_range - x)),\n",
    "          np.min(np.abs(upscaled_y_range - y)),\n",
    "          np.min(np.abs(upscaled_z_range - z)))\n",
    "\n",
    "    print(upscaled_rough_temperatures[x_index, y_index, z_index], high_res_temp)\n",
    "    upscaled_rough_temperatures[x_index, y_index, z_index] = high_res_temp\n",
    "\n",
    "print(upscaled_x_range.shape)\n",
    "print(upscaled_y_range.shape)\n",
    "print(upscaled_z_range.shape)\n"
   ]
  },
  {
   "cell_type": "code",
   "execution_count": null,
   "metadata": {},
   "outputs": [],
   "source": [
    "def get_coordinate_ranges(points):\n",
    "    points = np.array(points)\n",
    "    x_min = np.min(points[:, 0])\n",
    "    x_max = np.max(points[:, 0])\n",
    "    y_min = np.min(points[:, 1])\n",
    "    y_max = np.max(points[:, 1])\n",
    "    z_min = np.min(points[:, 2])\n",
    "    z_max = np.max(points[:, 2])\n",
    "\n",
    "    return x_min, x_max, y_min, y_max, z_min, z_max"
   ]
  },
  {
   "cell_type": "code",
   "execution_count": null,
   "metadata": {},
   "outputs": [],
   "source": [
    "total_timesteps = scan_results.total_timesteps\n",
    "\n",
    "x_range = None\n",
    "y_range = None\n",
    "z_range = None\n",
    "\n",
    "for timestep in range(total_timesteps):\n",
    "    points, _ = scan_results.get_melt_pool_coordinates_and_temperature(timestep)\n",
    "    if len(points) == 0:\n",
    "        continue\n",
    "    x_min, x_max, y_min, y_max, z_min, z_max = get_coordinate_ranges(points)\n",
    "    new_x_range = x_max - x_min\n",
    "    x_range = new_x_range if x_range is None else max(x_range, new_x_range)\n",
    "    new_y_range = y_max - y_min\n",
    "    y_range = new_y_range if y_range is None else max(y_range, new_y_range)\n",
    "    new_z_range = z_max - z_min\n",
    "    z_range = new_z_range if z_range is None else max(z_range, new_z_range)\n",
    "\n",
    "print(f\"x_range: {x_range}\")\n",
    "print(f\"y_range: {y_range}\")\n",
    "print(f\"z_range: {z_range}\")"
   ]
  },
  {
   "cell_type": "code",
   "execution_count": null,
   "metadata": {},
   "outputs": [],
   "source": [
    "rough_coords = scan_params.rough_coordinates\n",
    "x_rough = rough_coords['x_rough']\n",
    "y_rough = rough_coords['y_rough']\n",
    "z_rough = rough_coords['z_rough']\n",
    "\n",
    "x_rough_min = np.min(x_rough)\n",
    "x_rough_max = np.max(x_rough)\n",
    "y_rough_min = np.min(y_rough)\n",
    "y_rough_max = np.max(y_rough)\n",
    "z_rough_min = np.min(z_rough)\n",
    "z_rough_max = np.max(z_rough)\n",
    "\n",
    "print(f\"x_rough_range: {(x_rough_max - x_rough_min) * 1000}\")\n",
    "print(f\"y_rough_range: {(y_rough_max - y_rough_min) * 1000}\")\n",
    "print(f\"z_rough_range: {(z_rough_max - z_rough_min) * 1000}\")"
   ]
  },
  {
   "cell_type": "code",
   "execution_count": null,
   "metadata": {},
   "outputs": [],
   "source": [
    "(x_rough[1][0][0] - x_rough[0][0][0]) * 8\n"
   ]
  },
  {
   "cell_type": "code",
   "execution_count": null,
   "metadata": {},
   "outputs": [],
   "source": [
    "from scipy import interpolate\n",
    "\n",
    "rough_coordinates_points_list = scan_params.get_rough_coordinates_points_list()"
   ]
  },
  {
   "cell_type": "code",
   "execution_count": null,
   "metadata": {},
   "outputs": [],
   "source": [
    "timestep = 1500"
   ]
  },
  {
   "cell_type": "code",
   "execution_count": null,
   "metadata": {},
   "outputs": [],
   "source": [
    "def get_interpolated_box_around_laser(rough_coordinates, scan_results, timestep, scale, method='nearest'):\n",
    "    x_rough = rough_coordinates['x_rough']\n",
    "    y_rough = rough_coordinates['y_rough']\n",
    "    z_rough = rough_coordinates['z_rough']\n",
    "    rough_temps = scan_results.get_rough_temperatures_at_timestep(timestep)\n",
    "    laser_x, laser_y = scan_results.get_laser_coordinates_at_timestep(timestep)\n",
    "    # step_size = scan_params.rough_coordinates_step_size\n",
    "    step_size = x_rough[1][0][0] - x_rough[0][0][0]\n",
    "    x_start = laser_x - (step_size * (4 - 0.5 * scale))\n",
    "    x_end = laser_x + (step_size * (4 + 0.5 * scale))\n",
    "    y_start = laser_y - (step_size * (4 - 0.5 * scale))\n",
    "    y_end = laser_y + (step_size * (4 + 0.5 * scale))\n",
    "\n",
    "    x_points = np.arange(x_start, x_end, step_size * scale)\n",
    "    y_points = np.arange(y_start, y_end, step_size * scale)\n",
    "    z_points = np.array(z_rough[0][0])\n",
    "    desired_points = [(x_point, y_point, z_point) for x_point in x_points for y_point in y_points for z_point in z_points]\n",
    "\n",
    "    grid_points = ([x[0][0] for x in x_rough], [y[0] for y in y_rough[0]], z_points)\n",
    "    interpolated_temperature = interpolate.interpn(grid_points, rough_temps[:, :, :], desired_points, method=method)\n",
    "\n",
    "    return x_points, y_points, z_points, interpolated_temperature"
   ]
  },
  {
   "cell_type": "code",
   "execution_count": null,
   "metadata": {},
   "outputs": [],
   "source": [
    "scale = 0.25"
   ]
  },
  {
   "cell_type": "code",
   "execution_count": null,
   "metadata": {},
   "outputs": [],
   "source": [
    "timestep = 3000"
   ]
  },
  {
   "cell_type": "code",
   "execution_count": null,
   "metadata": {},
   "outputs": [],
   "source": [
    "x_points, y_points, z_points, interpolated_temperature = get_interpolated_box_around_laser(rough_coords, scan_results, timestep, 0.25)"
   ]
  },
  {
   "cell_type": "code",
   "execution_count": null,
   "metadata": {},
   "outputs": [],
   "source": [
    "print(x_points.max() - x_points.min())\n",
    "print(y_points.max() - y_points.min())"
   ]
  },
  {
   "cell_type": "code",
   "execution_count": null,
   "metadata": {},
   "outputs": [],
   "source": [
    "rough_temps = scan_results.get_rough_temperatures_at_timestep(timestep)\n",
    "laser_x, laser_y = scan_results.get_laser_coordinates_at_timestep(timestep)"
   ]
  },
  {
   "cell_type": "code",
   "execution_count": null,
   "metadata": {},
   "outputs": [],
   "source": [
    "from matplotlib import pyplot as plt\n",
    "\n",
    "def plot_interolated_top(ax, x_points, y_points, z_points, interpolated_temperature, laser_x, laser_y):\n",
    "    ax.set_aspect('equal')\n",
    "    x_image_points = np.array([np.array([x] * len(y_points)) for x in x_points])\n",
    "    y_image_points = np.array([y_points for _ in x_points])\n",
    "\n",
    "    im = ax.pcolormesh(x_image_points, y_image_points, interpolated_temperature.reshape((len(x_points), len(y_points), len(z_points)))[:, :, -1], vmin=0, vmax=MELTING_POINT, shading='nearest')\n",
    "    im = ax.scatter(laser_x, laser_y, c='red')\n"
   ]
  },
  {
   "cell_type": "code",
   "execution_count": null,
   "metadata": {},
   "outputs": [],
   "source": [
    "import time"
   ]
  },
  {
   "cell_type": "code",
   "execution_count": null,
   "metadata": {},
   "outputs": [],
   "source": [
    "\n",
    "from leap3d.plotting import plot_top_layer_temperature\n",
    "\n",
    "\n",
    "fig, ((ax1, ax2, ax3), (ax4, ax5, ax6), (ax7, ax8, ax9)) = plt.subplots(ncols=3, nrows=3, figsize=(20, 20))\n",
    "ax1.set_aspect('equal')\n",
    "plot_top_layer_temperature(ax1, rough_temps[:, :, -1], scan_params, vmin=0, vmax=MELTING_POINT)\n",
    "im = ax1.scatter(laser_x, laser_y, c='red')\n",
    "ax1.plot([x_points.min(), x_points.min()], [y_points.min(), y_points.max()], 'black', lw=1)\n",
    "ax1.plot([x_points.max(), x_points.max()], [y_points.min(), y_points.max()], 'black', lw=1)\n",
    "ax1.plot([x_points.min(), x_points.max()], [y_points.min(), y_points.min()], 'black', lw=1)\n",
    "ax1.plot([x_points.min(), x_points.max()], [y_points.max(), y_points.max()], 'black', lw=1)\n",
    "ax1.set_title(\"Full view\")\n",
    "\n",
    "plot_top_layer_temperature(ax2, rough_temps[:, :, -1], scan_params, vmin=0, vmax=MELTING_POINT)\n",
    "ax2.set_xlim(x_points.min(), x_points.max())\n",
    "ax2.set_ylim(y_points.min(), y_points.max())\n",
    "ax2.set_title(\"Zoomed-in view (low res)\")\n",
    "\n",
    "melt_pool_coords, melt_pool_temps = scan_results.get_melt_pool_coordinates_and_temperature(timestep)\n",
    "ax8.set_aspect('equal')\n",
    "melt_pool_temp = np.array(scan_results.get_melt_pool_temperature_grid(timestep))[:, :, -1]\n",
    "\n",
    "melt_x_coords = np.arange(x_rough_min, x_rough_max, (x_rough_max - x_rough_min) / 256)\n",
    "melt_y_coords = np.arange(y_rough_min, y_rough_max, (y_rough_max - y_rough_min) / 256)\n",
    "print(melt_x_coords.shape, melt_y_coords.shape)\n",
    "ax3.pcolormesh(melt_x_coords, melt_y_coords, np.transpose(melt_pool_temp), vmin=0, vmax=MELTING_POINT, shading='nearest')\n",
    "ax3.set_xlim(x_points.min(), x_points.max())\n",
    "ax3.set_ylim(y_points.min(), y_points.max())\n",
    "ax3.set_title(\"Zoomed-in view (high res only)\")\n",
    "\n",
    "methods = [\"nearest\", \"linear\", \"slinear\", \"cubic\", \"quintic\", \"pchip\"]\n",
    "axes = [ax4, ax5, ax6, ax7, ax8, ax9]\n",
    "\n",
    "for method, ax in zip(methods, axes):\n",
    "    t_start = time.time()\n",
    "    x_points, y_points, z_points, interpolated_temperature = get_interpolated_box_around_laser(rough_coords, scan_results, timestep, 0.25, method=method)\n",
    "    time_taken = time.time() - t_start\n",
    "    plot_interolated_top(ax, x_points, y_points, z_points, interpolated_temperature, laser_x, laser_y)\n",
    "    ax.set_title(f\"Interpolated ({method}), {time_taken:.5f}s\")"
   ]
  },
  {
   "cell_type": "code",
   "execution_count": null,
   "metadata": {},
   "outputs": [],
   "source": [
    "fig, ax8 = plt.subplots(figsize=(10, 10))\n",
    "from matplotlib import transforms\n",
    "melt_pool_coords, melt_pool_temps = scan_results.get_melt_pool_coordinates_and_temperature(timestep)\n",
    "ax8.set_aspect('equal')\n",
    "melt_pool_temp = np.array(scan_results.get_melt_pool_temperature_grid(timestep))[:, :, -1]\n",
    "\n",
    "melt_x_coords = np.arange(x_rough_min, x_rough_max, (x_rough_max - x_rough_min) / 256)\n",
    "melt_y_coords = np.arange(y_rough_min, y_rough_max, (y_rough_max - y_rough_min) / 256)\n",
    "print(melt_x_coords.shape, melt_y_coords.shape)\n",
    "ax8.pcolormesh(melt_x_coords, melt_y_coords, np.transpose(melt_pool_temp), vmin=0, vmax=MELTING_POINT)\n",
    "ax8.set_xlim(x_points.min(), x_points.max())\n",
    "ax8.set_ylim(y_points.min(), y_points.max())"
   ]
  }
 ],
 "metadata": {
  "kernelspec": {
   "display_name": "Python 3",
   "language": "python",
   "name": "python3"
  },
  "language_info": {
   "codemirror_mode": {
    "name": "ipython",
    "version": 3
   },
   "file_extension": ".py",
   "mimetype": "text/x-python",
   "name": "python",
   "nbconvert_exporter": "python",
   "pygments_lexer": "ipython3",
   "version": "3.11.5"
  }
 },
 "nbformat": 4,
 "nbformat_minor": 2
}
