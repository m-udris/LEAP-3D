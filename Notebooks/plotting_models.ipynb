{
 "cells": [
  {
   "cell_type": "code",
   "execution_count": null,
   "metadata": {},
   "outputs": [],
   "source": [
    "from pathlib import Path\n",
    "import sys\n",
    "\n",
    "import matplotlib.animation as animation\n",
    "import torch\n",
    "import numpy as np\n",
    "\n",
    "from leap3d.config import DATA_DIR\n",
    "from leap3d.scanning import ScanParameters\n",
    "from leap3d.plotting import plot_top_layer_temperature, plot_top_view_scan_boundaries\n",
    "from leap3d.dataset import prepare_scan_results\n",
    "from matplotlib import pyplot as plt\n"
   ]
  },
  {
   "cell_type": "code",
   "execution_count": null,
   "metadata": {},
   "outputs": [],
   "source": [
    "ANIMATION_FRAME_DURATION = 1\n",
    "GIF_FPS = 60\n",
    "PLOT_DIR = Path(\"../Plots/\")"
   ]
  },
  {
   "cell_type": "code",
   "execution_count": null,
   "metadata": {},
   "outputs": [],
   "source": [
    "scan_result_filepath = DATA_DIR / \"case_0006.npz\"\n",
    "params_file = DATA_DIR / DATA_DIR / \"Params.npy\"\n",
    "rough_coordinates = DATA_DIR / \"Rough_coord.npz\"\n",
    "case_id = 6\n",
    "scan_parameters = ScanParameters(params_file, rough_coordinates, case_id)"
   ]
  },
  {
   "cell_type": "code",
   "execution_count": null,
   "metadata": {},
   "outputs": [],
   "source": [
    "x_input, target = prepare_scan_results(scan_result_filepath, scan_parameters, dims=2)\n",
    "x_input = torch.tensor(x_input, dtype=torch.float32)\n",
    "x_input = x_input.to(\"cuda\")\n",
    "target = torch.tensor(target, dtype=torch.float32)"
   ]
  },
  {
   "cell_type": "code",
   "execution_count": null,
   "metadata": {},
   "outputs": [],
   "source": [
    "from leap3d.models.lightning import LEAP3D_UNet2D\n",
    "\n",
    "\n",
    "models = {\n",
    "    \"UNet2D\": LEAP3D_UNet2D.load_from_checkpoint(\"./model_checkpoints/unet2d-v2.ckpt\"),\n",
    "    \"UNet2D_norm_naive\": LEAP3D_UNet2D.load_from_checkpoint(\"./model_checkpoints/unet2d_normalized_naive-v1.ckpt\"),\n",
    "    \"UNet2D_norm\": LEAP3D_UNet2D.load_from_checkpoint(\"./model_checkpoints/unet2d_normalized.ckpt\")\n",
    "}"
   ]
  },
  {
   "cell_type": "code",
   "execution_count": null,
   "metadata": {},
   "outputs": [],
   "source": [
    "for model in models.values():\n",
    "    model.eval()"
   ]
  },
  {
   "cell_type": "code",
   "execution_count": null,
   "metadata": {},
   "outputs": [],
   "source": [
    "from leap3d.config import MELTING_POINT\n",
    "\n",
    "def normalize_temperature_0(x):\n",
    "        new_x =  x.clone()\n",
    "        if len(new_x.shape) == 2:\n",
    "            new_x /= MELTING_POINT\n",
    "            return new_x\n",
    "        new_x[:, :, -1] /= MELTING_POINT\n",
    "        return new_x\n",
    "\n",
    "def unnormalize_temperature_0(x):\n",
    "        new_x = x.clone()\n",
    "        if len(new_x.shape) == 2:\n",
    "            new_x *= MELTING_POINT\n",
    "            return new_x\n",
    "        new_x[:, :, -1] *= MELTING_POINT\n",
    "        return new_x\n",
    "\n",
    "def normalize_temperature_1(x):\n",
    "        new_x =  x.clone()\n",
    "        if len(new_x.shape) == 2:\n",
    "            new_x = (new_x - 300) / (MELTING_POINT - 300)\n",
    "            return new_x\n",
    "        new_x[:, :,-1] = (new_x[:, :, -1] - 300) / (MELTING_POINT - 300)\n",
    "        return new_x\n",
    "\n",
    "def unnormalize_temperature_1(x):\n",
    "        new_x = x.clone()\n",
    "        if len(new_x.shape) == 2:\n",
    "            new_x = new_x * (MELTING_POINT - 300) + 300\n",
    "            return new_x\n",
    "        new_x[:, :, -1] = new_x[:, :, -1] * (MELTING_POINT - 300) + 300\n",
    "        return new_x"
   ]
  },
  {
   "cell_type": "code",
   "execution_count": null,
   "metadata": {},
   "outputs": [],
   "source": [
    "x_min, x_max, y_min, y_max, *_ = scan_parameters.get_bounds()\n",
    "\n",
    "fig, ax = plt.subplots(sharex=True, sharey=True, ncols=len(models) * 2 + 1)\n",
    "fig.set_figwidth(5 * (len(ax)) + 5)\n",
    "\n",
    "frames = len(target)\n",
    "\n",
    "for axis in ax:\n",
    "    axis.set_xlim(x_min, x_max)\n",
    "    axis.set_ylim(y_min, y_max)\n",
    "    axis.set_aspect('equal', adjustable='box')\n",
    "\n",
    "transforms = [lambda x: x, normalize_temperature_0, normalize_temperature_1]\n",
    "untransforms = [lambda x: x, unnormalize_temperature_0, unnormalize_temperature_1]\n",
    "\n",
    "ims = []\n",
    "for i in range(0, frames, 5):\n",
    "    ims_at_timestep = []\n",
    "\n",
    "    im = plot_top_layer_temperature(ax[0], target[i], scan_parameters, False)\n",
    "    ims_at_timestep.append(im)\n",
    "\n",
    "    for index, ((model_name, model), transform, untransform) in enumerate(zip(models.items(), transforms, untransforms)):\n",
    "        model_output = untransform(model(transform(x_input[i]))).squeeze().cpu().detach().numpy()\n",
    "        im = plot_top_layer_temperature(ax[index * 2 + 1], model_output, scan_parameters, False)\n",
    "        ims_at_timestep.append(im)\n",
    "        im = plot_top_layer_temperature(ax[index * 2 + 2], np.abs(target[i] - model_output), scan_parameters, False)\n",
    "        ims_at_timestep.append(im)\n",
    "\n",
    "\n",
    "    ims.append(ims_at_timestep)\n",
    "\n",
    "for axis in ax:\n",
    "    plot_top_view_scan_boundaries(axis, scan_parameters)\n",
    "\n",
    "fig.colorbar(ims[0][0], ax=ax[-1])"
   ]
  },
  {
   "cell_type": "code",
   "execution_count": null,
   "metadata": {},
   "outputs": [],
   "source": [
    "fig.get_axes()[0].set_title(\"Top layer view of temperature map over time\")\n",
    "ani = animation.ArtistAnimation(fig, ims, interval=ANIMATION_FRAME_DURATION, blit=True,\n",
    "                                repeat_delay=1000)\n",
    "ani.save(PLOT_DIR / \"aaa2.gif\", fps=GIF_FPS)"
   ]
  },
  {
   "cell_type": "code",
   "execution_count": null,
   "metadata": {},
   "outputs": [],
   "source": [
    "x_min, x_max, y_min, y_max, *_ = scan_parameters.get_bounds()\n",
    "\n",
    "fig, ax = plt.subplots(sharex=True, sharey=True, ncols=len(models) + 1)\n",
    "fig.set_figwidth(5 * (len(ax)) + 10)\n",
    "\n",
    "frames = 500\n",
    "\n",
    "for axis in ax:\n",
    "    axis.set_xlim(x_min, x_max)\n",
    "    axis.set_ylim(y_min, y_max)\n",
    "    axis.set_aspect('equal', adjustable='box')\n",
    "\n",
    "ims = []\n",
    "\n",
    "new_x_input = [x_input[0], normalize_temperature_0(x_input[0]), normalize_temperature_1(x_input[0])]\n",
    "\n",
    "for i in range(0, frames, 1):\n",
    "    print(i, end='\\r')\n",
    "    ims_at_timestep = []\n",
    "\n",
    "    im = plot_top_layer_temperature(ax[0], target[i], scan_parameters, False)\n",
    "    ims_at_timestep.append(im)\n",
    "\n",
    "    for index, ((model_name, model), transform, untransform) in enumerate(zip(models.items(), transforms, untransforms)):\n",
    "        model_output = model(new_x_input[index])\n",
    "        # print(x_input[0].shape, model_output.shape)\n",
    "        new_x_input[index][:,:, -1] = model_output.squeeze()\n",
    "        model_output_plotting = untransform(model_output).squeeze().cpu().detach().numpy()\n",
    "\n",
    "        im = plot_top_layer_temperature(ax[index + 1], model_output_plotting, scan_parameters, False)\n",
    "        ims_at_timestep.append(im)\n",
    "\n",
    "    ims.append(ims_at_timestep)\n",
    "\n",
    "for axis in ax:\n",
    "    plot_top_view_scan_boundaries(axis, scan_parameters)\n",
    "\n",
    "fig.colorbar(ims[0][0], ax=ax[-1])"
   ]
  },
  {
   "cell_type": "code",
   "execution_count": null,
   "metadata": {},
   "outputs": [],
   "source": [
    "fig.get_axes()[0].set_title(\"Top layer view of temperature map over time\")\n",
    "ani = animation.ArtistAnimation(fig, ims, interval=ANIMATION_FRAME_DURATION * 5, blit=True,\n",
    "                                repeat_delay=1000)\n",
    "ani.save(PLOT_DIR / \"bbb2.gif\", fps=GIF_FPS)"
   ]
  }
 ],
 "metadata": {
  "kernelspec": {
   "display_name": "Python 3",
   "language": "python",
   "name": "python3"
  },
  "language_info": {
   "codemirror_mode": {
    "name": "ipython",
    "version": 3
   },
   "file_extension": ".py",
   "mimetype": "text/x-python",
   "name": "python",
   "nbconvert_exporter": "python",
   "pygments_lexer": "ipython3",
   "version": "3.11.5"
  }
 },
 "nbformat": 4,
 "nbformat_minor": 2
}
