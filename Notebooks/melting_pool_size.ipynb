{
 "cells": [
  {
   "cell_type": "code",
   "execution_count": 1,
   "metadata": {},
   "outputs": [],
   "source": [
    "from pathlib import Path\n",
    "\n",
    "import numpy as np\n",
    "import matplotlib.pyplot as plt\n",
    "\n",
    "from leap3d.scanning import ScanParameters, ScanResults\n",
    "from leap3d.config import DATA_DIR, PARAMS_FILEPATH, ROUGH_COORDS_FILEPATH, MELTING_POINT\n",
    "from leap3d.plotting import plot_top_layer_temperature"
   ]
  },
  {
   "cell_type": "code",
   "execution_count": 2,
   "metadata": {},
   "outputs": [],
   "source": [
    "scan_params  = ScanParameters(PARAMS_FILEPATH, ROUGH_COORDS_FILEPATH, case_index=0)\n",
    "\n",
    "step_size = scan_params.rough_coordinates_step_size"
   ]
  },
  {
   "cell_type": "code",
   "execution_count": 3,
   "metadata": {},
   "outputs": [],
   "source": [
    "def get_melting_pool_dims_for_case(case_index):\n",
    "    case_filename = DATA_DIR / f\"case_{case_index:04}.npz\"\n",
    "    scan_results = ScanResults(case_filename)\n",
    "    span_x = 0\n",
    "    span_y = 0\n",
    "    span_z = 0\n",
    "    for t in range(scan_results.total_timesteps):\n",
    "        coordinates, _ = scan_results.get_melt_pool_coordinates_and_temperature(t)\n",
    "        if coordinates == []:\n",
    "            continue\n",
    "        coordinates = np.array(coordinates)\n",
    "        span_x_at_t = np.max(coordinates[:, 0]) - np.min(coordinates[:, 0])\n",
    "        span_x = max(span_x, span_x_at_t)\n",
    "\n",
    "        span_y_at_t = np.max(coordinates[:, 1]) - np.min(coordinates[:, 1])\n",
    "        span_y = max(span_y, span_y_at_t)\n",
    "\n",
    "        span_z_at_t = np.max(coordinates[:, 2]) - np.min(coordinates[:, 2])\n",
    "        span_z = max(span_z, span_z_at_t)\n",
    "\n",
    "    return span_x, span_y, span_z"
   ]
  },
  {
   "cell_type": "code",
   "execution_count": 4,
   "metadata": {},
   "outputs": [
    {
     "name": "stdout",
     "output_type": "stream",
     "text": [
      "0.00015999999595806003 0.0003576470917323604 7.61904739192687e-05\n",
      "5 10 3\n",
      "0.0003200000210199505 0.0003576470917323604 7.61904739192687e-05\n",
      "9 10 3\n",
      "0.0003200000210199505 0.0003576470917323604 7.61904739192687e-05\n",
      "9 10 3\n",
      "0.0003200000210199505 0.0003576470917323604 7.61904739192687e-05\n",
      "9 10 3\n",
      "0.0003200000210199505 0.0003576470917323604 7.61904739192687e-05\n",
      "9 10 3\n",
      "0.0003200000210199505 0.00040470589010510594 7.61904739192687e-05\n",
      "9 11 3\n",
      "0.0003200000210199505 0.00040470589010510594 7.61904739192687e-05\n",
      "9 11 3\n",
      "0.0003200000210199505 0.00040470589010510594 7.61904739192687e-05\n",
      "9 11 3\n",
      "0.0003200000210199505 0.00040470589010510594 7.61904739192687e-05\n",
      "9 11 3\n",
      "0.0004894117591902614 0.00040470589010510594 0.00010476190800545737\n",
      "13 11 3\n",
      "0.0004894117591902614 0.00040470589010510594 0.00010476190800545737\n",
      "13 11 3\n",
      "0.0004894117591902614 0.00040470589010510594 0.00010476190800545737\n",
      "13 11 3\n",
      "0.0004894117591902614 0.00040470589010510594 0.00010476190800545737\n",
      "13 11 3\n",
      "0.0004894117591902614 0.00040470589010510594 0.00010476190800545737\n",
      "13 11 3\n",
      "0.0005082353018224239 0.00040470589010510594 0.00010476190800545737\n",
      "14 11 3\n",
      "0.0005082353018224239 0.00040470589010510594 0.00010476190800545737\n",
      "14 11 3\n",
      "0.0005082353018224239 0.0004517647175816819 0.00010476190800545737\n",
      "14 12 3\n",
      "0.0005082353018224239 0.0004894117737421766 0.00010476190800545737\n",
      "14 13 3\n",
      "0.0005082353018224239 0.0004894117737421766 0.00010476190800545737\n",
      "14 13 3\n",
      "0.0005082353018224239 0.0004894117737421766 0.00010476190800545737\n",
      "14 13 3\n",
      "0.0005082353018224239 0.0004894117737421766 0.00010476190800545737\n",
      "14 13 3\n"
     ]
    }
   ],
   "source": [
    "span_x, span_y, span_z = 0, 0, 0\n",
    "\n",
    "for i in range(21):\n",
    "    new_span_x, new_span_y, new_span_z = get_melting_pool_dims_for_case(i)\n",
    "    span_x = max(span_x, new_span_x)\n",
    "    span_y = max(span_y, new_span_y)\n",
    "    span_z = max(span_z, new_span_z)\n",
    "\n",
    "    print(span_x, span_y, span_z)\n",
    "    print(int(span_x / step_size) + 1, int(span_y / step_size) + 1, int(span_z / step_size) + 1)"
   ]
  },
  {
   "cell_type": "code",
   "execution_count": 5,
   "metadata": {},
   "outputs": [
    {
     "name": "stdout",
     "output_type": "stream",
     "text": [
      "0.0005082353018224239 0.0004894117737421766 0.00010476190800545737\n"
     ]
    }
   ],
   "source": [
    "print(span_x, span_y, span_z)"
   ]
  }
 ],
 "metadata": {
  "kernelspec": {
   "display_name": "Python 3",
   "language": "python",
   "name": "python3"
  },
  "language_info": {
   "codemirror_mode": {
    "name": "ipython",
    "version": 3
   },
   "file_extension": ".py",
   "mimetype": "text/x-python",
   "name": "python",
   "nbconvert_exporter": "python",
   "pygments_lexer": "ipython3",
   "version": "3.11.5"
  }
 },
 "nbformat": 4,
 "nbformat_minor": 2
}
