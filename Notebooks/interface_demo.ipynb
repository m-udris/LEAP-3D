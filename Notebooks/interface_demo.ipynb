{
 "cells": [
  {
   "cell_type": "markdown",
   "metadata": {},
   "source": [
    "# LEAP3D Interface Demo"
   ]
  },
  {
   "cell_type": "markdown",
   "metadata": {},
   "source": [
    "## Config"
   ]
  },
  {
   "cell_type": "code",
   "execution_count": null,
   "metadata": {},
   "outputs": [],
   "source": [
    "from leap3d.config import DATA_DIR, DATASET_DIR, X_MIN, X_MAX, Y_MIN, Y_MAX, Z_MIN, Z_MAX, SAFETY_OFFSET, MELTING_POINT, TIMESTEP_DURATION, SCALE_DISTANCE_BY, SCALE_TIME_BY, BASE_TEMPERATURE"
   ]
  },
  {
   "cell_type": "markdown",
   "metadata": {},
   "source": [
    "## ScanParameters"
   ]
  },
  {
   "cell_type": "code",
   "execution_count": null,
   "metadata": {},
   "outputs": [],
   "source": [
    "from leap3d.scanning import ScanParameters"
   ]
  },
  {
   "cell_type": "code",
   "execution_count": null,
   "metadata": {},
   "outputs": [],
   "source": [
    "case_index = 0\n",
    "params_filename =  DATA_DIR / \"Params.npy\"\n",
    "rough_coord_filename =  DATA_DIR / \"Rough_coord.npz\""
   ]
  },
  {
   "cell_type": "code",
   "execution_count": null,
   "metadata": {},
   "outputs": [],
   "source": [
    "case_params = ScanParameters(params_filename, rough_coord_filename, case_index,\n",
    "                             x_min=X_MIN, x_max=X_MAX,\n",
    "                             y_min=Y_MIN, y_max=Y_MAX,\n",
    "                             z_min=Z_MIN, z_max=Z_MAX,\n",
    "                             safety_offset=SAFETY_OFFSET,\n",
    "                             melting_point=MELTING_POINT,\n",
    "                             timestep_duration=TIMESTEP_DURATION,\n",
    "                             scale_distance_by=SCALE_DISTANCE_BY,\n",
    "                             scale_time_by=SCALE_TIME_BY)"
   ]
  },
  {
   "cell_type": "markdown",
   "metadata": {},
   "source": [
    "Object bounds"
   ]
  },
  {
   "cell_type": "code",
   "execution_count": null,
   "metadata": {},
   "outputs": [],
   "source": [
    "x_min, x_max, y_min, y_max, z_min, z_max = case_params.get_bounds()\n",
    "x_min, x_max, y_min, y_max, z_min, z_max"
   ]
  },
  {
   "cell_type": "markdown",
   "metadata": {},
   "source": [
    "Scanning bounds"
   ]
  },
  {
   "cell_type": "code",
   "execution_count": null,
   "metadata": {},
   "outputs": [],
   "source": [
    "laser_x_min, laser_x_max, laser_y_min, laser_y_max = case_params.get_laser_bounds()\n",
    "laser_x_min, laser_x_max, laser_y_min, laser_y_max"
   ]
  },
  {
   "cell_type": "markdown",
   "metadata": {},
   "source": [
    "Edge points of current laser trajectory"
   ]
  },
  {
   "cell_type": "code",
   "execution_count": null,
   "metadata": {},
   "outputs": [],
   "source": [
    "laser_x_min, laser_x_max, laser_y_min, laser_y_max = case_params.get_cross_section_scanning_bounds(laser_x=0, laser_y=0)\n",
    "laser_x_min, laser_x_max, laser_y_min, laser_y_max"
   ]
  },
  {
   "cell_type": "markdown",
   "metadata": {},
   "source": [
    "## ScanResults"
   ]
  },
  {
   "cell_type": "code",
   "execution_count": null,
   "metadata": {},
   "outputs": [],
   "source": [
    "from leap3d.scanning import ScanResults"
   ]
  },
  {
   "cell_type": "code",
   "execution_count": null,
   "metadata": {},
   "outputs": [],
   "source": [
    "case_index = 0\n",
    "case_filename = DATA_DIR / \"case_0000.npz\""
   ]
  },
  {
   "cell_type": "code",
   "execution_count": null,
   "metadata": {},
   "outputs": [],
   "source": [
    "case_results = ScanResults(case_filename)"
   ]
  },
  {
   "cell_type": "code",
   "execution_count": null,
   "metadata": {},
   "outputs": [],
   "source": [
    "type(case_results.get_laser_data_at_timestep(0)[0])\n"
   ]
  },
  {
   "cell_type": "code",
   "execution_count": null,
   "metadata": {},
   "outputs": [],
   "source": [
    "case_results.get_rough_temperatures_at_timestep(timestep=0).shape"
   ]
  },
  {
   "cell_type": "code",
   "execution_count": null,
   "metadata": {},
   "outputs": [],
   "source": [
    "top_layer_temperatures = case_results.get_top_layer_temperatures(timestep=0)\n",
    "top_layer_temperatures.shape"
   ]
  },
  {
   "cell_type": "code",
   "execution_count": null,
   "metadata": {},
   "outputs": [],
   "source": [
    "laser_x, laser_y = case_results.get_laser_coordinates_at_timestep(timestep=0)\n",
    "laser_x, laser_y"
   ]
  },
  {
   "cell_type": "code",
   "execution_count": null,
   "metadata": {},
   "outputs": [],
   "source": [
    "coordinates, temperatures = case_results.get_coordinate_points_and_temperature_at_timestep(case_params, timestep=0)\n",
    "coordinates, temperatures"
   ]
  },
  {
   "cell_type": "markdown",
   "metadata": {},
   "source": [
    "## Dataset"
   ]
  },
  {
   "cell_type": "markdown",
   "metadata": {},
   "source": [
    "### Dataset preparation"
   ]
  },
  {
   "cell_type": "code",
   "execution_count": null,
   "metadata": {},
   "outputs": [],
   "source": [
    "from leap3d import dataset as dataset\n",
    "from leap3d.dataset import check_if_prepared_data_exists"
   ]
  },
  {
   "cell_type": "code",
   "execution_count": null,
   "metadata": {},
   "outputs": [],
   "source": [
    "if not check_if_prepared_data_exists(DATASET_DIR / \"dataset.hdf5\"):\n",
    "    dataset.prepare_raw_data(params_filename, rough_coord_filename, DATA_DIR, DATASET_DIR / \"dataset.hdf5\", cases=8)"
   ]
  },
  {
   "cell_type": "code",
   "execution_count": null,
   "metadata": {},
   "outputs": [],
   "source": [
    "if not check_if_prepared_data_exists(DATASET_DIR / \"test_dataset.hdf5\"):\n",
    "    dataset.prepare_raw_data(params_filename, rough_coord_filename, DATA_DIR, DATASET_DIR / \"test_dataset.hdf5\", cases=[9,10])"
   ]
  },
  {
   "cell_type": "markdown",
   "metadata": {},
   "source": [
    "### Dataset"
   ]
  },
  {
   "cell_type": "code",
   "execution_count": null,
   "metadata": {},
   "outputs": [],
   "source": [
    "from leap3d.dataset import LEAP3DDataset"
   ]
  },
  {
   "cell_type": "code",
   "execution_count": null,
   "metadata": {},
   "outputs": [],
   "source": [
    "dataset = LEAP3DDataset(DATASET_DIR, train=True)"
   ]
  },
  {
   "cell_type": "code",
   "execution_count": null,
   "metadata": {},
   "outputs": [],
   "source": [
    "len(dataset)"
   ]
  },
  {
   "cell_type": "code",
   "execution_count": null,
   "metadata": {},
   "outputs": [],
   "source": [
    "temperature_mean, temperature_variance, target_mean, target_variance = dataset.get_temperature_mean_and_variance(print_progress=True)"
   ]
  },
  {
   "cell_type": "code",
   "execution_count": null,
   "metadata": {},
   "outputs": [],
   "source": [
    "print(temperature_mean, temperature_variance, target_mean, target_variance)"
   ]
  },
  {
   "cell_type": "code",
   "execution_count": null,
   "metadata": {},
   "outputs": [],
   "source": [
    "from torchvision.transforms import transforms\n",
    "\n",
    "from leap3d.transforms import normalize_temperature_2d\n",
    "\n",
    "\n",
    "normalize_temperature = lambda x: normalize_temperature_2d(x, melting_point=MELTING_POINT, base_temperature=BASE_TEMPERATURE, inplace=True)\n",
    "\n",
    "train_transforms = transforms.Compose([\n",
    "        transforms.Lambda(normalize_temperature)\n",
    "    ])\n",
    "\n",
    "target_transforms = transforms.Compose([\n",
    "    transforms.Lambda(normalize_temperature)\n",
    "])\n",
    "dataset = LEAP3DDataset(DATASET_DIR, train=True, transform=train_transforms, target_transform=target_transforms)"
   ]
  },
  {
   "cell_type": "code",
   "execution_count": null,
   "metadata": {},
   "outputs": [],
   "source": [
    "normalized_temperature_mean, normalized_temperature_variance, normalized_target_mean, normalized_target_variance = dataset.get_temperature_mean_and_variance(print_progress=True)"
   ]
  },
  {
   "cell_type": "code",
   "execution_count": null,
   "metadata": {},
   "outputs": [],
   "source": [
    "print(normalized_temperature_mean, normalized_temperature_variance, normalized_target_mean, normalized_target_variance)"
   ]
  },
  {
   "cell_type": "code",
   "execution_count": null,
   "metadata": {},
   "outputs": [],
   "source": [
    "normalize_temperature = lambda x: normalize_temperature_2d(x, melting_point=MELTING_POINT, base_temperature=0, inplace=True)\n",
    "\n",
    "train_transforms = transforms.Compose([\n",
    "        transforms.Lambda(normalize_temperature)\n",
    "    ])\n",
    "\n",
    "target_transforms = transforms.Compose([\n",
    "    transforms.Lambda(normalize_temperature)\n",
    "])\n",
    "dataset = LEAP3DDataset(DATASET_DIR, train=True, transform=train_transforms, target_transform=target_transforms)"
   ]
  },
  {
   "cell_type": "code",
   "execution_count": null,
   "metadata": {},
   "outputs": [],
   "source": [
    "normalized_temperature_mean, normalized_temperature_variance, normalized_target_mean, normalized_target_variance = dataset.get_temperature_mean_and_variance(print_progress=True)"
   ]
  },
  {
   "cell_type": "code",
   "execution_count": null,
   "metadata": {},
   "outputs": [],
   "source": [
    "print(normalized_temperature_mean, normalized_temperature_variance, normalized_target_mean, normalized_target_variance)"
   ]
  },
  {
   "cell_type": "code",
   "execution_count": null,
   "metadata": {},
   "outputs": [],
   "source": [
    "x_train, extra_params, target = dataset[0]\n",
    "x_train.shape, extra_params.shape, target.shape"
   ]
  }
 ],
 "metadata": {
  "kernelspec": {
   "display_name": "Python 3",
   "language": "python",
   "name": "python3"
  },
  "language_info": {
   "codemirror_mode": {
    "name": "ipython",
    "version": 3
   },
   "file_extension": ".py",
   "mimetype": "text/x-python",
   "name": "python",
   "nbconvert_exporter": "python",
   "pygments_lexer": "ipython3",
   "version": "3.11.5"
  }
 },
 "nbformat": 4,
 "nbformat_minor": 2
}
