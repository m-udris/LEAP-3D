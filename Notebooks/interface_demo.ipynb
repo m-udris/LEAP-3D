{
 "cells": [
  {
   "cell_type": "markdown",
   "metadata": {},
   "source": [
    "# LEAP3D Interface Demo"
   ]
  },
  {
   "cell_type": "markdown",
   "metadata": {},
   "source": [
    "## Config"
   ]
  },
  {
   "cell_type": "code",
   "execution_count": 1,
   "metadata": {},
   "outputs": [],
   "source": [
    "from leap3d.config import DATA_DIR, DATASET_DIR, X_MIN, X_MAX, Y_MIN, Y_MAX, Z_MIN, Z_MAX, SAFETY_OFFSET, MELTING_POINT, TIMESTEP_DURATION, SCALE_DISTANCE_BY, SCALE_TIME_BY, BASE_TEMPERATURE"
   ]
  },
  {
   "cell_type": "markdown",
   "metadata": {},
   "source": [
    "## ScanParameters"
   ]
  },
  {
   "cell_type": "code",
   "execution_count": 23,
   "metadata": {},
   "outputs": [],
   "source": [
    "from leap3d.scanning import ScanParameters"
   ]
  },
  {
   "cell_type": "code",
   "execution_count": 4,
   "metadata": {},
   "outputs": [],
   "source": [
    "case_index = 0\n",
    "params_filename =  DATA_DIR / \"Params.npy\"\n",
    "rough_coord_filename =  DATA_DIR / \"Rough_coord.npz\""
   ]
  },
  {
   "cell_type": "code",
   "execution_count": 24,
   "metadata": {},
   "outputs": [],
   "source": [
    "case_params = ScanParameters(params_filename, rough_coord_filename, case_index,\n",
    "                             x_min=X_MIN, x_max=X_MAX,\n",
    "                             y_min=Y_MIN, y_max=Y_MAX,\n",
    "                             z_min=Z_MIN, z_max=Z_MAX,\n",
    "                             safety_offset=SAFETY_OFFSET,\n",
    "                             melting_point=MELTING_POINT,\n",
    "                             timestep_duration=TIMESTEP_DURATION,\n",
    "                             scale_distance_by=SCALE_DISTANCE_BY,\n",
    "                             scale_time_by=SCALE_TIME_BY)"
   ]
  },
  {
   "cell_type": "markdown",
   "metadata": {},
   "source": [
    "Object bounds"
   ]
  },
  {
   "cell_type": "code",
   "execution_count": null,
   "metadata": {},
   "outputs": [],
   "source": [
    "x_min, x_max, y_min, y_max, z_min, z_max = case_params.get_bounds()\n",
    "x_min, x_max, y_min, y_max, z_min, z_max"
   ]
  },
  {
   "cell_type": "markdown",
   "metadata": {},
   "source": [
    "Scanning bounds"
   ]
  },
  {
   "cell_type": "code",
   "execution_count": null,
   "metadata": {},
   "outputs": [],
   "source": [
    "laser_x_min, laser_x_max, laser_y_min, laser_y_max = case_params.get_laser_bounds()\n",
    "laser_x_min, laser_x_max, laser_y_min, laser_y_max"
   ]
  },
  {
   "cell_type": "markdown",
   "metadata": {},
   "source": [
    "Edge points of current laser trajectory"
   ]
  },
  {
   "cell_type": "code",
   "execution_count": null,
   "metadata": {},
   "outputs": [],
   "source": [
    "laser_x_min, laser_x_max, laser_y_min, laser_y_max = case_params.get_cross_section_scanning_bounds(laser_x=0, laser_y=0)\n",
    "laser_x_min, laser_x_max, laser_y_min, laser_y_max"
   ]
  },
  {
   "cell_type": "markdown",
   "metadata": {},
   "source": [
    "## ScanResults"
   ]
  },
  {
   "cell_type": "code",
   "execution_count": 6,
   "metadata": {},
   "outputs": [],
   "source": [
    "from leap3d.scanning import ScanResults"
   ]
  },
  {
   "cell_type": "code",
   "execution_count": 7,
   "metadata": {},
   "outputs": [],
   "source": [
    "case_index = 0\n",
    "case_filename = DATA_DIR / \"case_0000.npz\""
   ]
  },
  {
   "cell_type": "code",
   "execution_count": 8,
   "metadata": {},
   "outputs": [],
   "source": [
    "case_results = ScanResults(case_filename)"
   ]
  },
  {
   "cell_type": "code",
   "execution_count": null,
   "metadata": {},
   "outputs": [],
   "source": [
    "type(case_results.get_laser_data_at_timestep(0)[0])\n"
   ]
  },
  {
   "cell_type": "code",
   "execution_count": null,
   "metadata": {},
   "outputs": [],
   "source": [
    "case_results.get_rough_temperatures_at_timestep(timestep=0).shape"
   ]
  },
  {
   "cell_type": "code",
   "execution_count": null,
   "metadata": {},
   "outputs": [],
   "source": [
    "top_layer_temperatures = case_results.get_top_layer_temperatures(timestep=0)\n",
    "top_layer_temperatures.shape"
   ]
  },
  {
   "cell_type": "code",
   "execution_count": null,
   "metadata": {},
   "outputs": [],
   "source": [
    "laser_x, laser_y = case_results.get_laser_coordinates_at_timestep(timestep=0)\n",
    "laser_x, laser_y"
   ]
  },
  {
   "cell_type": "code",
   "execution_count": null,
   "metadata": {},
   "outputs": [],
   "source": [
    "coordinates, temperatures = case_results.get_coordinate_points_and_temperature_at_timestep(case_params, timestep=0)\n",
    "coordinates, temperatures"
   ]
  },
  {
   "cell_type": "code",
   "execution_count": 27,
   "metadata": {},
   "outputs": [
    {
     "name": "stdout",
     "output_type": "stream",
     "text": [
      "[ 682.1485   793.806    769.31335  753.5166   754.7451  1015.0751\n",
      " 1810.3091  1638.9724  1002.7991   927.2842   883.2565   715.1585\n",
      " 1167.0497   674.5829   766.9234   949.3082   767.2809   866.46716\n",
      "  994.15564  822.59515]\n",
      "[ 644.088    665.2476   705.98035  726.2364   741.15125  647.47034\n",
      "  800.9297  1543.6045   980.65967  907.37646  868.77734  646.99646\n",
      "  760.2031   663.28174  722.7192   903.50885  749.677    845.1901\n",
      "  984.1435   811.24146]\n"
     ]
    },
    {
     "ename": "TypeError",
     "evalue": "unhashable type: 'numpy.ndarray'",
     "output_type": "error",
     "traceback": [
      "\u001b[1;31m---------------------------------------------------------------------------\u001b[0m",
      "\u001b[1;31mTypeError\u001b[0m                                 Traceback (most recent call last)",
      "\u001b[1;32md:\\ETH Zurich\\Master Thesis\\Surf-GNN\\LEAP-3D\\Notebooks\\interface_demo.ipynb Cell 23\u001b[0m line \u001b[0;36m1\n\u001b[0;32m      <a href='vscode-notebook-cell:/d%3A/ETH%20Zurich/Master%20Thesis/Surf-GNN/LEAP-3D/Notebooks/interface_demo.ipynb#X55sZmlsZQ%3D%3D?line=7'>8</a>\u001b[0m \u001b[39mprint\u001b[39m(top_layer_temperatures_t386[diff \u001b[39m>\u001b[39m \u001b[39m10.0\u001b[39m])\n\u001b[0;32m      <a href='vscode-notebook-cell:/d%3A/ETH%20Zurich/Master%20Thesis/Surf-GNN/LEAP-3D/Notebooks/interface_demo.ipynb#X55sZmlsZQ%3D%3D?line=8'>9</a>\u001b[0m \u001b[39mprint\u001b[39m(top_layer_temperatures_t385[diff \u001b[39m>\u001b[39m \u001b[39m10.0\u001b[39m])\n\u001b[1;32m---> <a href='vscode-notebook-cell:/d%3A/ETH%20Zurich/Master%20Thesis/Surf-GNN/LEAP-3D/Notebooks/interface_demo.ipynb#X55sZmlsZQ%3D%3D?line=9'>10</a>\u001b[0m \u001b[39mprint\u001b[39m(case_params\u001b[39m.\u001b[39mrough_coordinates[diff \u001b[39m>\u001b[39m \u001b[39m10.0\u001b[39m])\n\u001b[0;32m     <a href='vscode-notebook-cell:/d%3A/ETH%20Zurich/Master%20Thesis/Surf-GNN/LEAP-3D/Notebooks/interface_demo.ipynb#X55sZmlsZQ%3D%3D?line=10'>11</a>\u001b[0m \u001b[39mprint\u001b[39m(diff[diff \u001b[39m>\u001b[39m \u001b[39m10.0\u001b[39m])\n\u001b[0;32m     <a href='vscode-notebook-cell:/d%3A/ETH%20Zurich/Master%20Thesis/Surf-GNN/LEAP-3D/Notebooks/interface_demo.ipynb#X55sZmlsZQ%3D%3D?line=11'>12</a>\u001b[0m \u001b[39mprint\u001b[39m(case_results\u001b[39m.\u001b[39mget_laser_data_at_timestep(\u001b[39m386\u001b[39m))\n",
      "\u001b[1;31mTypeError\u001b[0m: unhashable type: 'numpy.ndarray'"
     ]
    }
   ],
   "source": [
    "import numpy as np\n",
    "\n",
    "# top_layer_temperatures_t384 = case_results.get_top_layer_temperatures(timestep=384)\n",
    "top_layer_temperatures_t385 = case_results.get_top_layer_temperatures(timestep=385)\n",
    "top_layer_temperatures_t386 = case_results.get_top_layer_temperatures(timestep=386)\n",
    "\n",
    "diff = top_layer_temperatures_t386 - top_layer_temperatures_t385\n",
    "print(top_layer_temperatures_t386[diff > 10.0])\n",
    "print(top_layer_temperatures_t385[diff > 10.0])\n",
    "print(diff[diff > 10.0])\n",
    "print(case_results.get_laser_data_at_timestep(386))\n",
    "\n"
   ]
  },
  {
   "cell_type": "markdown",
   "metadata": {},
   "source": [
    "## Dataset"
   ]
  },
  {
   "cell_type": "markdown",
   "metadata": {},
   "source": [
    "### Dataset preparation"
   ]
  },
  {
   "cell_type": "code",
   "execution_count": 2,
   "metadata": {},
   "outputs": [],
   "source": [
    "from leap3d import dataset as dataset\n",
    "from leap3d.dataset import check_if_prepared_data_exists"
   ]
  },
  {
   "cell_type": "code",
   "execution_count": 5,
   "metadata": {},
   "outputs": [
    {
     "name": "stdout",
     "output_type": "stream",
     "text": [
      "['case_0000.npz', 'case_0001.npz', 'case_0002.npz', 'case_0003.npz', 'case_0004.npz', 'case_0005.npz', 'case_0006.npz', 'case_0007.npz', 'case_0008.npz', 'case_0009.npz'] 0000\n"
     ]
    },
    {
     "name": "stderr",
     "output_type": "stream",
     "text": [
      "WARNING:root:Temperature difference above 1000 at timestep 385 for case 0\n",
      "WARNING:root:Temperature difference above 1000 at timestep 986 for case 0\n",
      "WARNING:root:Temperature difference above 1000 at timestep 987 for case 0\n",
      "WARNING:root:Temperature difference above 1000 at timestep 992 for case 0\n",
      "WARNING:root:Temperature difference above 1000 at timestep 993 for case 0\n",
      "WARNING:root:Temperature difference above 1000 at timestep 998 for case 0\n",
      "WARNING:root:Temperature difference above 1000 at timestep 999 for case 0\n",
      "WARNING:root:Temperature difference above 1000 at timestep 1001 for case 0\n",
      "WARNING:root:Temperature difference above 1000 at timestep 1005 for case 0\n",
      "WARNING:root:Temperature difference above 1000 at timestep 1077 for case 0\n",
      "WARNING:root:Temperature difference above 1000 at timestep 1083 for case 0\n",
      "WARNING:root:Temperature difference above 1000 at timestep 1088 for case 0\n",
      "WARNING:root:Temperature difference above 1000 at timestep 1089 for case 0\n",
      "WARNING:root:Temperature difference above 1000 at timestep 1094 for case 0\n",
      "WARNING:root:Temperature difference above 1000 at timestep 1155 for case 0\n",
      "WARNING:root:Temperature difference above 1000 at timestep 1161 for case 0\n",
      "WARNING:root:Temperature difference above 1000 at timestep 1175 for case 0\n",
      "WARNING:root:Temperature difference above 1000 at timestep 1181 for case 0\n",
      "WARNING:root:Temperature difference above 1000 at timestep 1182 for case 0\n",
      "WARNING:root:Temperature difference above 1000 at timestep 1541 for case 0\n",
      "WARNING:root:Temperature difference above 1000 at timestep 1544 for case 0\n",
      "WARNING:root:Temperature difference above 1000 at timestep 1548 for case 0\n",
      "WARNING:root:Temperature difference above 1000 at timestep 1549 for case 0\n",
      "WARNING:root:Temperature difference above 1000 at timestep 1554 for case 0\n",
      "WARNING:root:Temperature difference above 1000 at timestep 1565 for case 0\n",
      "WARNING:root:Temperature difference above 1000 at timestep 1566 for case 0\n",
      "WARNING:root:Temperature difference above 1000 at timestep 1570 for case 0\n",
      "WARNING:root:Temperature difference above 1000 at timestep 1571 for case 0\n",
      "WARNING:root:Temperature difference above 1000 at timestep 1581 for case 0\n",
      "WARNING:root:Temperature difference above 1000 at timestep 1582 for case 0\n",
      "WARNING:root:Temperature difference above 1000 at timestep 1583 for case 0\n",
      "WARNING:root:Temperature difference above 1000 at timestep 3309 for case 0\n",
      "WARNING:root:Temperature difference above 1000 at timestep 3315 for case 0\n",
      "WARNING:root:Temperature difference above 1000 at timestep 3319 for case 0\n",
      "WARNING:root:Temperature difference above 1000 at timestep 3321 for case 0\n",
      "WARNING:root:Temperature difference above 1000 at timestep 3330 for case 0\n",
      "WARNING:root:Temperature difference above 1000 at timestep 3332 for case 0\n",
      "WARNING:root:Temperature difference above 1000 at timestep 3396 for case 0\n",
      "WARNING:root:Temperature difference above 1000 at timestep 3621 for case 0\n",
      "WARNING:root:Temperature difference above 1000 at timestep 3622 for case 0\n",
      "WARNING:root:Temperature difference above 1000 at timestep 3623 for case 0\n",
      "WARNING:root:Temperature difference above 1000 at timestep 3636 for case 0\n",
      "WARNING:root:Temperature difference above 1000 at timestep 3637 for case 0\n",
      "WARNING:root:Temperature difference above 1000 at timestep 3640 for case 0\n",
      "WARNING:root:Temperature difference above 1000 at timestep 3650 for case 0\n",
      "WARNING:root:Temperature difference above 1000 at timestep 3651 for case 0\n",
      "WARNING:root:Temperature difference above 1000 at timestep 3652 for case 0\n",
      "WARNING:root:Temperature difference above 1000 at timestep 3654 for case 0\n",
      "WARNING:root:Temperature difference above 1000 at timestep 3655 for case 0\n",
      "WARNING:root:Temperature difference above 1000 at timestep 4665 for case 0\n",
      "WARNING:root:Temperature difference above 1000 at timestep 4686 for case 0\n",
      "WARNING:root:Temperature difference above 1000 at timestep 4691 for case 0\n",
      "WARNING:root:Temperature difference above 1000 at timestep 4697 for case 0\n",
      "WARNING:root:Temperature difference above 1000 at timestep 4702 for case 0\n",
      "WARNING:root:Temperature difference above 1000 at timestep 4713 for case 0\n",
      "WARNING:root:Temperature difference above 1000 at timestep 4718 for case 0\n",
      "WARNING:root:Temperature difference above 1000 at timestep 5554 for case 0\n",
      "WARNING:root:Temperature difference above 1000 at timestep 5555 for case 0\n",
      "WARNING:root:Temperature difference above 1000 at timestep 5556 for case 0\n",
      "WARNING:root:Temperature difference above 1000 at timestep 5560 for case 0\n",
      "WARNING:root:Temperature difference above 1000 at timestep 5561 for case 0\n",
      "WARNING:root:Temperature difference above 1000 at timestep 5562 for case 0\n",
      "WARNING:root:Temperature difference above 1000 at timestep 5567 for case 0\n",
      "WARNING:root:Temperature difference above 1000 at timestep 5568 for case 0\n",
      "WARNING:root:Temperature difference above 1000 at timestep 5571 for case 0\n",
      "WARNING:root:Temperature difference above 1000 at timestep 5573 for case 0\n",
      "WARNING:root:Temperature difference above 1000 at timestep 5574 for case 0\n",
      "WARNING:root:Temperature difference above 1000 at timestep 5579 for case 0\n",
      "WARNING:root:Temperature difference above 1000 at timestep 5580 for case 0\n",
      "WARNING:root:Temperature difference above 1000 at timestep 5585 for case 0\n",
      "WARNING:root:Temperature difference above 1000 at timestep 5832 for case 0\n",
      "WARNING:root:Temperature difference above 1000 at timestep 5844 for case 0\n",
      "WARNING:root:Temperature difference above 1000 at timestep 5851 for case 0\n",
      "WARNING:root:Temperature difference above 1000 at timestep 5852 for case 0\n",
      "WARNING:root:Temperature difference above 1000 at timestep 5858 for case 0\n",
      "WARNING:root:Temperature difference above 1000 at timestep 5859 for case 0\n",
      "WARNING:root:Temperature difference above 1000 at timestep 5860 for case 0\n",
      "WARNING:root:Temperature difference above 1000 at timestep 5866 for case 0\n",
      "WARNING:root:Temperature difference above 1000 at timestep 5867 for case 0\n",
      "WARNING:root:Temperature difference above 1000 at timestep 6749 for case 0\n",
      "WARNING:root:Temperature difference above 1000 at timestep 6750 for case 0\n",
      "WARNING:root:Temperature difference above 1000 at timestep 6753 for case 0\n",
      "WARNING:root:Temperature difference above 1000 at timestep 6821 for case 0\n",
      "WARNING:root:Temperature difference above 1000 at timestep 6824 for case 0\n",
      "WARNING:root:Temperature difference above 1000 at timestep 6958 for case 0\n"
     ]
    },
    {
     "ename": "KeyboardInterrupt",
     "evalue": "",
     "output_type": "error",
     "traceback": [
      "\u001b[1;31m---------------------------------------------------------------------------\u001b[0m",
      "\u001b[1;31mKeyboardInterrupt\u001b[0m                         Traceback (most recent call last)",
      "\u001b[1;32md:\\ETH Zurich\\Master Thesis\\Surf-GNN\\LEAP-3D\\Notebooks\\interface_demo.ipynb Cell 26\u001b[0m line \u001b[0;36m2\n\u001b[0;32m      <a href='vscode-notebook-cell:/d%3A/ETH%20Zurich/Master%20Thesis/Surf-GNN/LEAP-3D/Notebooks/interface_demo.ipynb#X34sZmlsZQ%3D%3D?line=0'>1</a>\u001b[0m \u001b[39mif\u001b[39;00m \u001b[39mnot\u001b[39;00m check_if_prepared_data_exists(DATASET_DIR \u001b[39m/\u001b[39m \u001b[39m\"\u001b[39m\u001b[39mdataset.hdf5\u001b[39m\u001b[39m\"\u001b[39m):\n\u001b[1;32m----> <a href='vscode-notebook-cell:/d%3A/ETH%20Zurich/Master%20Thesis/Surf-GNN/LEAP-3D/Notebooks/interface_demo.ipynb#X34sZmlsZQ%3D%3D?line=1'>2</a>\u001b[0m     dataset\u001b[39m.\u001b[39mprepare_raw_data(params_filename, rough_coord_filename, DATA_DIR, DATASET_DIR \u001b[39m/\u001b[39m \u001b[39m\"\u001b[39m\u001b[39mdataset.hdf5\u001b[39m\u001b[39m\"\u001b[39m, cases\u001b[39m=\u001b[39m\u001b[39m8\u001b[39m)\n",
      "File \u001b[1;32md:\\eth zurich\\master thesis\\surf-gnn\\leap-3d\\leap3d\\dataset.py:59\u001b[0m, in \u001b[0;36mprepare_raw_data\u001b[1;34m(scan_parameters_filepath, rough_coordinates_filepath, raw_data_dir, prepared_data_path, cases, window_size, window_step_size, channels, extra_params)\u001b[0m\n\u001b[0;32m     56\u001b[0m \u001b[39mfor\u001b[39;00m case_id, scan_result_filepath \u001b[39min\u001b[39;00m scan_result_filepaths:\n\u001b[0;32m     57\u001b[0m     scan_parameters \u001b[39m=\u001b[39m ScanParameters(params_file, rough_coordinates, case_id)\n\u001b[1;32m---> 59\u001b[0m     training_points, extra_train_points, targets \u001b[39m=\u001b[39m prepare_scan_results(scan_result_filepath, scan_parameters,\n\u001b[0;32m     60\u001b[0m                                                                   window_size\u001b[39m=\u001b[39mwindow_size, window_step_size\u001b[39m=\u001b[39mwindow_step_size, channels\u001b[39m=\u001b[39mchannels, extra_params\u001b[39m=\u001b[39mextra_params, case_id\u001b[39m=\u001b[39mcase_id)\n\u001b[0;32m     62\u001b[0m     number_of_points \u001b[39m=\u001b[39m \u001b[39mlen\u001b[39m(training_points)\n\u001b[0;32m     63\u001b[0m     total_number_of_points \u001b[39m=\u001b[39m number_of_points \u001b[39m+\u001b[39m offset\n",
      "File \u001b[1;32md:\\eth zurich\\master thesis\\surf-gnn\\leap-3d\\leap3d\\dataset.py:96\u001b[0m, in \u001b[0;36mprepare_scan_results\u001b[1;34m(scan_result_filepath, scan_parameters, window_size, window_step_size, channels, extra_params, dims, case_id)\u001b[0m\n\u001b[0;32m     92\u001b[0m     next_laser_position_grid \u001b[39m=\u001b[39m convert_laser_position_to_grid(next_laser_data[\u001b[39m0\u001b[39m], next_laser_data[\u001b[39m1\u001b[39m], scan_parameters\u001b[39m.\u001b[39mrough_coordinates, dims)\n\u001b[0;32m     94\u001b[0m     \u001b[39mreturn\u001b[39;00m [laser_position_grid, next_laser_position_grid]\n\u001b[1;32m---> 96\u001b[0m scan_results \u001b[39m=\u001b[39m ScanResults(scan_result_filepath)\n\u001b[0;32m     98\u001b[0m training_points \u001b[39m=\u001b[39m []\n\u001b[0;32m     99\u001b[0m extra_params_points \u001b[39m=\u001b[39m []\n",
      "File \u001b[1;32md:\\eth zurich\\master thesis\\surf-gnn\\leap-3d\\leap3d\\scanning\\scan_results.py:16\u001b[0m, in \u001b[0;36mScanResults.__init__\u001b[1;34m(self, results_filename, scale_distance_by, scale_time_by)\u001b[0m\n\u001b[0;32m     12\u001b[0m \u001b[39mself\u001b[39m\u001b[39m.\u001b[39mscale_time_by \u001b[39m=\u001b[39m scale_time_by \u001b[39mor\u001b[39;00m SCALE_TIME_BY\n\u001b[0;32m     15\u001b[0m \u001b[39mself\u001b[39m\u001b[39m.\u001b[39mresults \u001b[39m=\u001b[39m np\u001b[39m.\u001b[39mload(results_filename, allow_pickle\u001b[39m=\u001b[39m\u001b[39mTrue\u001b[39;00m)\n\u001b[1;32m---> 16\u001b[0m \u001b[39mself\u001b[39m\u001b[39m.\u001b[39mrough_temperature_field \u001b[39m=\u001b[39m \u001b[39mself\u001b[39m\u001b[39m.\u001b[39mresults[\u001b[39m'\u001b[39m\u001b[39mRough_T_field\u001b[39m\u001b[39m'\u001b[39m]\n\u001b[0;32m     17\u001b[0m \u001b[39mself\u001b[39m\u001b[39m.\u001b[39mtotal_timesteps \u001b[39m=\u001b[39m \u001b[39mself\u001b[39m\u001b[39m.\u001b[39mrough_temperature_field\u001b[39m.\u001b[39mshape[\u001b[39m0\u001b[39m]\n\u001b[0;32m     19\u001b[0m \u001b[39mself\u001b[39m\u001b[39m.\u001b[39mmelt_pool \u001b[39m=\u001b[39m \u001b[39mself\u001b[39m\u001b[39m.\u001b[39mresults[\u001b[39m'\u001b[39m\u001b[39mMelt_pool\u001b[39m\u001b[39m'\u001b[39m]\n",
      "File \u001b[1;32md:\\Programs\\Miniconda\\envs\\LEAP3D\\Lib\\site-packages\\numpy\\lib\\npyio.py:256\u001b[0m, in \u001b[0;36mNpzFile.__getitem__\u001b[1;34m(self, key)\u001b[0m\n\u001b[0;32m    254\u001b[0m \u001b[39mif\u001b[39;00m magic \u001b[39m==\u001b[39m \u001b[39mformat\u001b[39m\u001b[39m.\u001b[39mMAGIC_PREFIX:\n\u001b[0;32m    255\u001b[0m     \u001b[39mbytes\u001b[39m \u001b[39m=\u001b[39m \u001b[39mself\u001b[39m\u001b[39m.\u001b[39mzip\u001b[39m.\u001b[39mopen(key)\n\u001b[1;32m--> 256\u001b[0m     \u001b[39mreturn\u001b[39;00m \u001b[39mformat\u001b[39m\u001b[39m.\u001b[39mread_array(\u001b[39mbytes\u001b[39m,\n\u001b[0;32m    257\u001b[0m                              allow_pickle\u001b[39m=\u001b[39m\u001b[39mself\u001b[39m\u001b[39m.\u001b[39mallow_pickle,\n\u001b[0;32m    258\u001b[0m                              pickle_kwargs\u001b[39m=\u001b[39m\u001b[39mself\u001b[39m\u001b[39m.\u001b[39mpickle_kwargs,\n\u001b[0;32m    259\u001b[0m                              max_header_size\u001b[39m=\u001b[39m\u001b[39mself\u001b[39m\u001b[39m.\u001b[39mmax_header_size)\n\u001b[0;32m    260\u001b[0m \u001b[39melse\u001b[39;00m:\n\u001b[0;32m    261\u001b[0m     \u001b[39mreturn\u001b[39;00m \u001b[39mself\u001b[39m\u001b[39m.\u001b[39mzip\u001b[39m.\u001b[39mread(key)\n",
      "File \u001b[1;32md:\\Programs\\Miniconda\\envs\\LEAP3D\\Lib\\site-packages\\numpy\\lib\\format.py:831\u001b[0m, in \u001b[0;36mread_array\u001b[1;34m(fp, allow_pickle, pickle_kwargs, max_header_size)\u001b[0m\n\u001b[0;32m    829\u001b[0m             read_count \u001b[39m=\u001b[39m \u001b[39mmin\u001b[39m(max_read_count, count \u001b[39m-\u001b[39m i)\n\u001b[0;32m    830\u001b[0m             read_size \u001b[39m=\u001b[39m \u001b[39mint\u001b[39m(read_count \u001b[39m*\u001b[39m dtype\u001b[39m.\u001b[39mitemsize)\n\u001b[1;32m--> 831\u001b[0m             data \u001b[39m=\u001b[39m _read_bytes(fp, read_size, \u001b[39m\"\u001b[39m\u001b[39marray data\u001b[39m\u001b[39m\"\u001b[39m)\n\u001b[0;32m    832\u001b[0m             array[i:i\u001b[39m+\u001b[39mread_count] \u001b[39m=\u001b[39m numpy\u001b[39m.\u001b[39mfrombuffer(data, dtype\u001b[39m=\u001b[39mdtype,\n\u001b[0;32m    833\u001b[0m                                                      count\u001b[39m=\u001b[39mread_count)\n\u001b[0;32m    835\u001b[0m \u001b[39mif\u001b[39;00m fortran_order:\n",
      "File \u001b[1;32md:\\Programs\\Miniconda\\envs\\LEAP3D\\Lib\\site-packages\\numpy\\lib\\format.py:966\u001b[0m, in \u001b[0;36m_read_bytes\u001b[1;34m(fp, size, error_template)\u001b[0m\n\u001b[0;32m    961\u001b[0m \u001b[39mwhile\u001b[39;00m \u001b[39mTrue\u001b[39;00m:\n\u001b[0;32m    962\u001b[0m     \u001b[39m# io files (default in python3) return None or raise on\u001b[39;00m\n\u001b[0;32m    963\u001b[0m     \u001b[39m# would-block, python2 file will truncate, probably nothing can be\u001b[39;00m\n\u001b[0;32m    964\u001b[0m     \u001b[39m# done about that.  note that regular files can't be non-blocking\u001b[39;00m\n\u001b[0;32m    965\u001b[0m     \u001b[39mtry\u001b[39;00m:\n\u001b[1;32m--> 966\u001b[0m         r \u001b[39m=\u001b[39m fp\u001b[39m.\u001b[39mread(size \u001b[39m-\u001b[39m \u001b[39mlen\u001b[39m(data))\n\u001b[0;32m    967\u001b[0m         data \u001b[39m+\u001b[39m\u001b[39m=\u001b[39m r\n\u001b[0;32m    968\u001b[0m         \u001b[39mif\u001b[39;00m \u001b[39mlen\u001b[39m(r) \u001b[39m==\u001b[39m \u001b[39m0\u001b[39m \u001b[39mor\u001b[39;00m \u001b[39mlen\u001b[39m(data) \u001b[39m==\u001b[39m size:\n",
      "File \u001b[1;32md:\\Programs\\Miniconda\\envs\\LEAP3D\\Lib\\zipfile.py:955\u001b[0m, in \u001b[0;36mZipExtFile.read\u001b[1;34m(self, n)\u001b[0m\n\u001b[0;32m    953\u001b[0m \u001b[39mself\u001b[39m\u001b[39m.\u001b[39m_offset \u001b[39m=\u001b[39m \u001b[39m0\u001b[39m\n\u001b[0;32m    954\u001b[0m \u001b[39mwhile\u001b[39;00m n \u001b[39m>\u001b[39m \u001b[39m0\u001b[39m \u001b[39mand\u001b[39;00m \u001b[39mnot\u001b[39;00m \u001b[39mself\u001b[39m\u001b[39m.\u001b[39m_eof:\n\u001b[1;32m--> 955\u001b[0m     data \u001b[39m=\u001b[39m \u001b[39mself\u001b[39m\u001b[39m.\u001b[39m_read1(n)\n\u001b[0;32m    956\u001b[0m     \u001b[39mif\u001b[39;00m n \u001b[39m<\u001b[39m \u001b[39mlen\u001b[39m(data):\n\u001b[0;32m    957\u001b[0m         \u001b[39mself\u001b[39m\u001b[39m.\u001b[39m_readbuffer \u001b[39m=\u001b[39m data\n",
      "File \u001b[1;32md:\\Programs\\Miniconda\\envs\\LEAP3D\\Lib\\zipfile.py:1031\u001b[0m, in \u001b[0;36mZipExtFile._read1\u001b[1;34m(self, n)\u001b[0m\n\u001b[0;32m   1029\u001b[0m \u001b[39melif\u001b[39;00m \u001b[39mself\u001b[39m\u001b[39m.\u001b[39m_compress_type \u001b[39m==\u001b[39m ZIP_DEFLATED:\n\u001b[0;32m   1030\u001b[0m     n \u001b[39m=\u001b[39m \u001b[39mmax\u001b[39m(n, \u001b[39mself\u001b[39m\u001b[39m.\u001b[39mMIN_READ_SIZE)\n\u001b[1;32m-> 1031\u001b[0m     data \u001b[39m=\u001b[39m \u001b[39mself\u001b[39m\u001b[39m.\u001b[39m_decompressor\u001b[39m.\u001b[39mdecompress(data, n)\n\u001b[0;32m   1032\u001b[0m     \u001b[39mself\u001b[39m\u001b[39m.\u001b[39m_eof \u001b[39m=\u001b[39m (\u001b[39mself\u001b[39m\u001b[39m.\u001b[39m_decompressor\u001b[39m.\u001b[39meof \u001b[39mor\u001b[39;00m\n\u001b[0;32m   1033\u001b[0m                  \u001b[39mself\u001b[39m\u001b[39m.\u001b[39m_compress_left \u001b[39m<\u001b[39m\u001b[39m=\u001b[39m \u001b[39m0\u001b[39m \u001b[39mand\u001b[39;00m\n\u001b[0;32m   1034\u001b[0m                  \u001b[39mnot\u001b[39;00m \u001b[39mself\u001b[39m\u001b[39m.\u001b[39m_decompressor\u001b[39m.\u001b[39munconsumed_tail)\n\u001b[0;32m   1035\u001b[0m     \u001b[39mif\u001b[39;00m \u001b[39mself\u001b[39m\u001b[39m.\u001b[39m_eof:\n",
      "\u001b[1;31mKeyboardInterrupt\u001b[0m: "
     ]
    }
   ],
   "source": [
    "if not check_if_prepared_data_exists(DATASET_DIR / \"dataset.hdf5\"):\n",
    "    dataset.prepare_raw_data(params_filename, rough_coord_filename, DATA_DIR, DATASET_DIR / \"dataset.hdf5\", cases=8)"
   ]
  },
  {
   "cell_type": "code",
   "execution_count": null,
   "metadata": {},
   "outputs": [],
   "source": [
    "if not check_if_prepared_data_exists(DATASET_DIR / \"test_dataset.hdf5\"):\n",
    "    dataset.prepare_raw_data(params_filename, rough_coord_filename, DATA_DIR, DATASET_DIR / \"test_dataset.hdf5\", cases=[9,10])"
   ]
  },
  {
   "cell_type": "markdown",
   "metadata": {},
   "source": [
    "### Dataset"
   ]
  },
  {
   "cell_type": "code",
   "execution_count": null,
   "metadata": {},
   "outputs": [],
   "source": [
    "from leap3d.dataset import LEAP3DDataset"
   ]
  },
  {
   "cell_type": "code",
   "execution_count": null,
   "metadata": {},
   "outputs": [],
   "source": [
    "dataset = LEAP3DDataset(DATASET_DIR, train=True)"
   ]
  },
  {
   "cell_type": "code",
   "execution_count": null,
   "metadata": {},
   "outputs": [],
   "source": [
    "len(dataset)"
   ]
  },
  {
   "cell_type": "code",
   "execution_count": null,
   "metadata": {},
   "outputs": [],
   "source": [
    "temperature_mean, temperature_variance, target_mean, target_variance = dataset.get_temperature_mean_and_variance(print_progress=True)"
   ]
  },
  {
   "cell_type": "code",
   "execution_count": null,
   "metadata": {},
   "outputs": [],
   "source": [
    "print(temperature_mean, temperature_variance, target_mean, target_variance)"
   ]
  },
  {
   "cell_type": "code",
   "execution_count": null,
   "metadata": {},
   "outputs": [],
   "source": [
    "from torchvision.transforms import transforms\n",
    "\n",
    "from leap3d.transforms import normalize_temperature_2d\n",
    "\n",
    "\n",
    "normalize_temperature = lambda x: normalize_temperature_2d(x, melting_point=MELTING_POINT, base_temperature=BASE_TEMPERATURE, inplace=True)\n",
    "\n",
    "train_transforms = transforms.Compose([\n",
    "        transforms.Lambda(normalize_temperature)\n",
    "    ])\n",
    "\n",
    "target_transforms = transforms.Compose([\n",
    "    transforms.Lambda(normalize_temperature)\n",
    "])\n",
    "dataset = LEAP3DDataset(DATASET_DIR, train=True, transform=train_transforms, target_transform=target_transforms)"
   ]
  },
  {
   "cell_type": "code",
   "execution_count": null,
   "metadata": {},
   "outputs": [],
   "source": [
    "normalized_temperature_mean, normalized_temperature_variance, normalized_target_mean, normalized_target_variance = dataset.get_temperature_mean_and_variance(print_progress=True)"
   ]
  },
  {
   "cell_type": "code",
   "execution_count": null,
   "metadata": {},
   "outputs": [],
   "source": [
    "print(normalized_temperature_mean, normalized_temperature_variance, normalized_target_mean, normalized_target_variance)"
   ]
  },
  {
   "cell_type": "code",
   "execution_count": null,
   "metadata": {},
   "outputs": [],
   "source": [
    "normalize_temperature = lambda x: normalize_temperature_2d(x, melting_point=MELTING_POINT, base_temperature=0, inplace=True)\n",
    "\n",
    "train_transforms = transforms.Compose([\n",
    "        transforms.Lambda(normalize_temperature)\n",
    "    ])\n",
    "\n",
    "target_transforms = transforms.Compose([\n",
    "    transforms.Lambda(normalize_temperature)\n",
    "])\n",
    "dataset = LEAP3DDataset(DATASET_DIR, train=True, transform=train_transforms, target_transform=target_transforms)"
   ]
  },
  {
   "cell_type": "code",
   "execution_count": null,
   "metadata": {},
   "outputs": [],
   "source": [
    "normalized_temperature_mean, normalized_temperature_variance, normalized_target_mean, normalized_target_variance = dataset.get_temperature_mean_and_variance(print_progress=True)"
   ]
  },
  {
   "cell_type": "code",
   "execution_count": null,
   "metadata": {},
   "outputs": [],
   "source": [
    "print(normalized_temperature_mean, normalized_temperature_variance, normalized_target_mean, normalized_target_variance)"
   ]
  },
  {
   "cell_type": "code",
   "execution_count": null,
   "metadata": {},
   "outputs": [],
   "source": [
    "x_train, extra_params, target = dataset[0]\n",
    "x_train.shape, extra_params.shape, target.shape"
   ]
  }
 ],
 "metadata": {
  "kernelspec": {
   "display_name": "Python 3",
   "language": "python",
   "name": "python3"
  },
  "language_info": {
   "codemirror_mode": {
    "name": "ipython",
    "version": 3
   },
   "file_extension": ".py",
   "mimetype": "text/x-python",
   "name": "python",
   "nbconvert_exporter": "python",
   "pygments_lexer": "ipython3",
   "version": "3.11.5"
  }
 },
 "nbformat": 4,
 "nbformat_minor": 2
}
