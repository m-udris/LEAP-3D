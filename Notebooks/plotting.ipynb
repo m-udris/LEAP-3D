{
 "cells": [
  {
   "cell_type": "code",
   "execution_count": null,
   "metadata": {},
   "outputs": [],
   "source": [
    "import functools\n",
    "import os\n",
    "from pathlib import Path\n",
    "import sys\n",
    "\n",
    "from dotenv import load_dotenv\n",
    "import matplotlib.animation as animation\n",
    "import matplotlib.pyplot as plt\n",
    "import numpy as np\n",
    "from scipy import interpolate\n",
    "from scipy.spatial import ConvexHull\n",
    "\n",
    "sys.path.insert(0, '..')\n",
    "from leap3d.config import DATA_DIR, X_MIN, X_MAX, Y_MIN, Y_MAX, Z_MIN, Z_MAX, SAFETY_OFFSET, MELTING_POINT, TIMESTEP_DURATION\n",
    "from leap3d.scanning import ScanParameters\n",
    "from leap3d.scanning import ScanResults\n",
    "from leap3d.plotting import get_frames_for_temperature_cross_section_animation, plot_top_layer_temperature_at_timestep, get_frames_for_top_layer_temperatures\n",
    "from leap3d.laser import get_next_laser_position"
   ]
  },
  {
   "cell_type": "code",
   "execution_count": null,
   "metadata": {},
   "outputs": [],
   "source": [
    "ANIMATION_FRAME_DURATION = 1\n",
    "GIF_FPS = 60\n",
    "PLOT_DIR = Path(\"../Plots/\")"
   ]
  },
  {
   "cell_type": "code",
   "execution_count": null,
   "metadata": {},
   "outputs": [],
   "source": [
    "case_index = 0\n",
    "case_filename = DATA_DIR / \"case_0000.npz\"\n",
    "params_filename =  DATA_DIR / \"Params.npy\"\n",
    "rough_coord_filename =  DATA_DIR / \"Rough_coord.npz\""
   ]
  },
  {
   "cell_type": "code",
   "execution_count": null,
   "metadata": {},
   "outputs": [],
   "source": [
    "case_params = ScanParameters(params_filename, case_index,\n",
    "                             x_min=X_MIN, x_max=X_MAX,\n",
    "                             y_min=Y_MIN, y_max=Y_MAX,\n",
    "                             z_min=Z_MIN, z_max=Z_MAX,\n",
    "                             safety_offset=SAFETY_OFFSET,\n",
    "                             melting_point=MELTING_POINT,\n",
    "                             timestep_duration=TIMESTEP_DURATION)\n",
    "case_params"
   ]
  },
  {
   "cell_type": "code",
   "execution_count": null,
   "metadata": {},
   "outputs": [],
   "source": [
    "case_results = ScanResults(case_filename, rough_coord_filename)"
   ]
  },
  {
   "cell_type": "code",
   "execution_count": null,
   "metadata": {},
   "outputs": [],
   "source": [
    "fig, ims = get_frames_for_top_layer_temperatures(case_results, case_params)\n",
    "fig.get_axes()[0].set_title(\"Top layer view of temperature map over time\")\n",
    "ani = animation.ArtistAnimation(fig, ims, interval=ANIMATION_FRAME_DURATION, blit=True,\n",
    "                                repeat_delay=1000)\n",
    "ani.save(PLOT_DIR / \"top_heatmap.gif\", fps=GIF_FPS)"
   ]
  },
  {
   "cell_type": "code",
   "execution_count": null,
   "metadata": {},
   "outputs": [],
   "source": [
    "fig, ims = get_frames_for_temperature_cross_section_animation(case_results, case_params)"
   ]
  },
  {
   "cell_type": "code",
   "execution_count": null,
   "metadata": {},
   "outputs": [],
   "source": [
    "fig.get_axes()[0].set_title(\"Cross section of temperature map over time\")\n",
    "ani = animation.ArtistAnimation(fig, ims, repeat=True, interval=ANIMATION_FRAME_DURATION, blit=True, repeat_delay=1000)\n",
    "ani.save(PLOT_DIR / \"temperature_cross_section.gif\", fps=GIF_FPS, progress_callback=print)\n"
   ]
  }
 ],
 "metadata": {
  "kernelspec": {
   "display_name": "Python 3",
   "language": "python",
   "name": "python3"
  },
  "language_info": {
   "codemirror_mode": {
    "name": "ipython",
    "version": 3
   },
   "file_extension": ".py",
   "mimetype": "text/x-python",
   "name": "python",
   "nbconvert_exporter": "python",
   "pygments_lexer": "ipython3",
   "version": "3.11.5"
  }
 },
 "nbformat": 4,
 "nbformat_minor": 2
}
