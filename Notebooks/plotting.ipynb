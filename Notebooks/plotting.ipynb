{
 "cells": [
  {
   "cell_type": "code",
   "execution_count": null,
   "metadata": {},
   "outputs": [],
   "source": [
    "import functools\n",
    "import os\n",
    "from pathlib import Path\n",
    "import sys\n",
    "\n",
    "from dotenv import load_dotenv\n",
    "import matplotlib.animation as animation\n",
    "import matplotlib.pyplot as plt\n",
    "import numpy as np\n",
    "import scipy.interpolate as interpolate\n",
    "\n",
    "sys.path.insert(0, '..')\n",
    "from LEAP3D.config import DATA_DIR\n",
    "from LEAP3D.scanning import ScanParameters\n",
    "from LEAP3D.scanning import ScanResults"
   ]
  },
  {
   "cell_type": "code",
   "execution_count": null,
   "metadata": {},
   "outputs": [],
   "source": [
    "ANIMATION_FRAME_DURATION = 1\n",
    "GIF_FPS = 60\n",
    "PLOT_DIR = Path(\"../Plots/\")"
   ]
  },
  {
   "cell_type": "code",
   "execution_count": null,
   "metadata": {},
   "outputs": [],
   "source": [
    "case_index = 0\n",
    "case_filename = DATA_DIR / \"case_0000.npz\"\n",
    "params_filename =  DATA_DIR / \"Params.npy\"\n",
    "rough_coord_filename =  DATA_DIR / \"Rough_coord.npz\""
   ]
  },
  {
   "cell_type": "code",
   "execution_count": null,
   "metadata": {},
   "outputs": [],
   "source": [
    "X_MIN, X_MAX = -0.0012, 0.0012\n",
    "Y_MIN, Y_MAX = -0.0012, 0.0012\n",
    "Z_MIN, Z_MAX = -0.0006, 0\n",
    "SAFETY_OFFSET = 0.0005\n",
    "MELTING_POINT = 1723"
   ]
  },
  {
   "cell_type": "code",
   "execution_count": null,
   "metadata": {},
   "outputs": [],
   "source": [
    "case_params = ScanParameters(params_filename, case_index,\n",
    "                             x_min=X_MIN, x_max=X_MAX,\n",
    "                             y_min=Y_MIN, y_max=Y_MAX,\n",
    "                             z_min=Z_MIN, z_max=Z_MAX,\n",
    "                             safety_offset=SAFETY_OFFSET,\n",
    "                             melting_point=MELTING_POINT)\n",
    "case_params"
   ]
  },
  {
   "cell_type": "code",
   "execution_count": null,
   "metadata": {},
   "outputs": [],
   "source": [
    "case_results = ScanResults(case_filename, rough_coord_filename)"
   ]
  },
  {
   "cell_type": "code",
   "execution_count": null,
   "metadata": {},
   "outputs": [],
   "source": [
    "def animate_top_heatmap(case_results, case_params, frames=None, show_only_melt=False):\n",
    "    def animate(i, ax, case_results, melting_point, show_only_melt):\n",
    "        X, Y, temperature = case_results.get_top_layer_temperatures(i)\n",
    "\n",
    "        if show_only_melt:\n",
    "            temperature[temperature < melting_point] = 0\n",
    "            temperature[temperature >= melting_point] = 1\n",
    "\n",
    "        im = ax.pcolormesh(X, Y, temperature, animated=True, vmax=1 if show_only_melt else melting_point)\n",
    "        return im,\n",
    "\n",
    "    x_min, x_max, y_min, y_max, *_ = case_params.get_bounds()\n",
    "    melting_point = case_params.melting_point\n",
    "    safety_offset = case_params.safety_offset\n",
    "\n",
    "    fig, ax = plt.subplots(sharex=True, sharey=True)\n",
    "    ax.set_xlim(x_min, x_max)\n",
    "    ax.set_ylim(y_min, y_max)\n",
    "\n",
    "    frames = frames if frames is not None else case_results.total_timesteps\n",
    "    ims = [animate(i, ax, case_results, melting_point, show_only_melt) for i in range(0, frames, 5)]\n",
    "\n",
    "    laser_x_min = x_min + safety_offset\n",
    "    laser_x_max = x_max - safety_offset\n",
    "    laser_y_min = y_min + safety_offset\n",
    "    laser_y_max = y_max - safety_offset\n",
    "    ax.plot([laser_x_min, laser_x_min], [laser_y_min, laser_y_max], 'black', lw=1)\n",
    "    ax.plot([laser_x_max, laser_x_max], [laser_y_min, laser_y_max], 'black', lw=1)\n",
    "    ax.plot([laser_x_min, laser_x_max], [laser_y_min, laser_y_min], 'black', lw=1)\n",
    "    ax.plot([laser_x_min, laser_x_max], [laser_y_max, laser_y_max], 'black', lw=1)\n",
    "\n",
    "    if not show_only_melt:\n",
    "        fig.colorbar(ims[0][0], ax=ax)\n",
    "\n",
    "    return fig, ims"
   ]
  },
  {
   "cell_type": "code",
   "execution_count": null,
   "metadata": {},
   "outputs": [],
   "source": [
    "fig, ims = animate_top_heatmap(case_results, case_params)\n",
    "fig.get_axes()[0].set_title(\"Top layer view of temperature map over time\")\n",
    "ani = animation.ArtistAnimation(fig, ims, interval=ANIMATION_FRAME_DURATION, blit=True,\n",
    "                                repeat_delay=1000)\n",
    "ani.save(PLOT_DIR / \"top_heatmap.gif\", fps=GIF_FPS)"
   ]
  },
  {
   "cell_type": "code",
   "execution_count": null,
   "metadata": {},
   "outputs": [],
   "source": [
    "fig, ims = animate_top_heatmap(case_results, case_params, show_only_melt=True)\n",
    "fig.get_axes()[0].set_title(\"Top layer view of melt pool over time\")\n",
    "ani = animation.ArtistAnimation(fig, ims, interval=ANIMATION_FRAME_DURATION, blit=True,\n",
    "                                repeat_delay=1000)\n",
    "ani.save(PLOT_DIR / \"top_melt.gif\", fps=GIF_FPS)"
   ]
  },
  {
   "cell_type": "code",
   "execution_count": null,
   "metadata": {},
   "outputs": [],
   "source": [
    "def get_interpolated_data_at_timestep(\n",
    "        coordinates, temperature, laser_angle, laser_position,\n",
    "        x_min=None, x_max=None, y_min=None, y_max=None, z_min=None, z_max=None,\n",
    "        steps=128, method='nearest', return_grid=False\n",
    "        ):\n",
    "    x_min = x_min if x_min is not None else min(coordinates, key=lambda point: point[0])[0]\n",
    "    x_max = x_max if x_max is not None else max(coordinates, key=lambda point: point[0])[0]\n",
    "    y_min = y_min if y_min is not None else min(coordinates, key=lambda point: point[1])[1]\n",
    "    y_max = y_max if y_max is not None else max(coordinates, key=lambda point: point[1])[1]\n",
    "    z_min = z_min if z_min is not None else min(coordinates, key=lambda point: point[2])[2]\n",
    "    z_max = z_max if z_max is not None else max(coordinates, key=lambda point: point[2])[2]\n",
    "\n",
    "    laser_x, laser_y, _ = laser_position\n",
    "    laser_angle_tan = np.tan(laser_angle)\n",
    "    get_y = lambda x: laser_angle_tan * (x - laser_x) + laser_y\n",
    "\n",
    "    xi = np.linspace(x_min, x_max, steps)\n",
    "    zi = np.linspace(z_min, z_max, 64)\n",
    "    yi = get_y(xi)\n",
    "    yi_within_bounds_indices = np.where((yi >= y_min) & (yi <= y_max))  # Keep elements within bounds\n",
    "    yi = yi[yi_within_bounds_indices]\n",
    "    xi = xi[yi_within_bounds_indices]\n",
    "\n",
    "    cross_section_points = np.array([(x, y, z) for (x, y) in zip(xi, yi) for z in zi])\n",
    "\n",
    "    D_interpolated = interpolate.griddata(\n",
    "        coordinates,\n",
    "        temperature,\n",
    "        cross_section_points,\n",
    "        method=method)\n",
    "\n",
    "    if return_grid:\n",
    "        return D_interpolated, xi, yi, zi\n",
    "    return D_interpolated"
   ]
  },
  {
   "cell_type": "code",
   "execution_count": null,
   "metadata": {},
   "outputs": [],
   "source": [
    "def animate_temperature_cross_section(case_results, case_params, frames=None, show_only_melt=False):\n",
    "    def project_point(x, y, x_min, y_min):\n",
    "        return np.sqrt((x - x_min)**2 + (y - y_min)**2) - np.sqrt(x_min**2 + y_min**2)\n",
    "\n",
    "    def animate(i, case_results, case_params, show_only_melt):\n",
    "        print(i, end='\\r')\n",
    "        # TODO: add laser position\n",
    "        temperature = case_results.get_rough_temperatures_at_timestep(i).flatten()\n",
    "        melt_pool_coordinates, melt_pool_temperature = case_results.get_melt_pool_coordinates_and_temperature(i)\n",
    "\n",
    "        all_coordinates = rough_coords + melt_pool_coordinates\n",
    "        all_temperatures = list(temperature) + melt_pool_temperature\n",
    "\n",
    "        laser_position = case_results.get_laser_coordinates_at_timestep(i)\n",
    "\n",
    "        x_min, x_max, y_min, y_max, z_min, z_max = case_params.get_bounds()\n",
    "        melting_point = case_params.melting_point\n",
    "        safety_offset = case_params.safety_offset\n",
    "\n",
    "        # Since the rough resolution is at most 64x64, for the cross section\n",
    "        # we can interpolate for around sqrt(64**2 + 64**2) approx. 96 steps.\n",
    "        steps = 96\n",
    "        T_interpolated, xi, yi, zi = get_interpolated_data_at_timestep(\n",
    "            all_coordinates, all_temperatures,\n",
    "            laser_angle, laser_position,\n",
    "            x_min, x_max, y_min, y_max, z_min, z_max,\n",
    "            return_grid=True, steps=steps, method='nearest')\n",
    "\n",
    "        if show_only_melt:\n",
    "            T_interpolated[T_interpolated < melting_point] = 0\n",
    "            T_interpolated[T_interpolated >= melting_point] = 1\n",
    "\n",
    "        # Project x and y axes into 1D\n",
    "        new_x = project_point(xi, yi, x_min, y_min)\n",
    "\n",
    "        # Reshape coordinates for plotting\n",
    "        new_x_grid = [[x] * zi.shape[0] for x in new_x]\n",
    "        new_z_grid = [zi for _ in new_x]\n",
    "        T_values = T_interpolated.reshape((new_x.shape[0], zi.shape[0]))\n",
    "\n",
    "        im = ax.pcolormesh(new_x_grid, new_z_grid, T_values, animated=True, vmax=1 if show_only_melt else melting_point)\n",
    "\n",
    "        # Calculate scanning bounds of the cross section\n",
    "        laser_y_min = y_min + safety_offset\n",
    "        laser_x_min = (laser_y_min - laser_position[1]) / laser_angle_tan + laser_position[0]\n",
    "        if laser_x_min < x_min + safety_offset:\n",
    "            laser_x_min = x_min + safety_offset\n",
    "            laser_y_min = laser_angle_tan * (laser_x_min - laser_position[0]) + laser_position[1]\n",
    "\n",
    "        laser_y_max = y_max - safety_offset\n",
    "        laser_x_max = (laser_y_max - laser_position[1]) / laser_angle_tan + laser_position[0]\n",
    "        if laser_x_max > x_max - safety_offset:\n",
    "            laser_x_max = x_max - safety_offset\n",
    "            laser_y_max = laser_angle_tan * (laser_x_max - laser_position[0]) + laser_position[1]\n",
    "\n",
    "        # Project the scanning bounds into the cross section\n",
    "        cs_x_min = project_point(laser_x_min, laser_y_min, x_min, y_min)\n",
    "        cs_x_max = project_point(laser_x_max, laser_y_max, x_min, y_min)\n",
    "\n",
    "        # Plot the scanning bounds\n",
    "        scanning_bound_left, = ax.plot([cs_x_min, cs_x_min], [z_min, z_max], 'black', lw=1)\n",
    "        scanning_bound_right, = ax.plot([cs_x_max, cs_x_max], [z_min, z_max], 'black', lw=1)\n",
    "\n",
    "        return [im, scanning_bound_left, scanning_bound_right]\n",
    "\n",
    "\n",
    "    rough_coords = case_results.get_rough_coordinates_for_cross_section()\n",
    "\n",
    "    laser_angle = case_params.scanning_angle\n",
    "    laser_angle_tan = np.tan(laser_angle)\n",
    "\n",
    "    fig, ax = plt.subplots(sharex=True, sharey=True)\n",
    "    ax.set_xlim(\n",
    "        -np.sqrt(case_params.x_min**2 + case_params.y_min**2),\n",
    "        np.sqrt(case_params.x_max**2 + case_params.y_max**2))\n",
    "\n",
    "    frames = frames if frames is not None else case_results.total_timesteps\n",
    "    animate_partial = functools.partial(animate,\n",
    "                                        case_results=case_results,\n",
    "                                        case_params=case_params,\n",
    "                                        show_only_melt=show_only_melt)\n",
    "    ims = [animate_partial(i) for i in range(0, frames, 5)]\n",
    "\n",
    "    if not show_only_melt:\n",
    "        fig.colorbar(ims[0][0], ax=ax)\n",
    "\n",
    "    return fig, ims"
   ]
  },
  {
   "cell_type": "code",
   "execution_count": null,
   "metadata": {},
   "outputs": [],
   "source": [
    "fig, ims = animate_temperature_cross_section(case_results, case_params)"
   ]
  },
  {
   "cell_type": "code",
   "execution_count": null,
   "metadata": {},
   "outputs": [],
   "source": [
    "fig.get_axes()[0].set_title(\"Cross section of temperature map over time\")\n",
    "ani = animation.ArtistAnimation(fig, ims, repeat=True, interval=ANIMATION_FRAME_DURATION, blit=True, repeat_delay=1000)\n",
    "ani.save(PLOT_DIR / \"temperature_cross_section.gif\", fps=GIF_FPS, progress_callback=print)\n"
   ]
  },
  {
   "cell_type": "code",
   "execution_count": null,
   "metadata": {},
   "outputs": [],
   "source": [
    "fig, ims = animate_temperature_cross_section(case_results, case_params, show_only_melt=True)"
   ]
  },
  {
   "cell_type": "code",
   "execution_count": null,
   "metadata": {},
   "outputs": [],
   "source": [
    "fig.get_axes()[0].set_title(\"Cross section of melt pool over time\")\n",
    "ani = animation.ArtistAnimation(fig, ims, repeat=True, interval=ANIMATION_FRAME_DURATION, blit=True, repeat_delay=1000)\n",
    "ani.save(PLOT_DIR / \"melt_cross_section.gif\", fps=GIF_FPS, progress_callback=print)"
   ]
  },
  {
   "cell_type": "code",
   "execution_count": null,
   "metadata": {},
   "outputs": [],
   "source": [
    "def animate_laser_trajectory_2d(case_results, case_params, frames=None):\n",
    "    def animate(i, ax, case_results):\n",
    "        laser_x, laser_y, _ = case_results.get_laser_coordinates_at_timestep(i)\n",
    "        image = ax.scatter(laser_x, laser_y, animated=True, c='red')\n",
    "        return image,\n",
    "\n",
    "    x_min, x_max, y_min, y_max, *_ = case_params.get_bounds()\n",
    "    safety_offset = case_params.safety_offset\n",
    "\n",
    "    fig = plt.figure()\n",
    "    ax = fig.add_subplot()\n",
    "    ax.set_aspect('equal', adjustable='box')\n",
    "    ax.set_xlim(x_min, x_max)\n",
    "    ax.set_ylim(y_min, y_max)\n",
    "\n",
    "    # TODO: Refactor?\n",
    "    laser_x_min = x_min + safety_offset\n",
    "    laser_x_max = x_max - safety_offset\n",
    "    laser_y_min = y_min + safety_offset\n",
    "    laser_y_max = y_max - safety_offset\n",
    "    ax.plot([laser_x_min, laser_x_min], [laser_y_min, laser_y_max], 'black', lw=1)\n",
    "    ax.plot([laser_x_max, laser_x_max], [laser_y_min, laser_y_max], 'black', lw=1)\n",
    "    ax.plot([laser_x_min, laser_x_max], [laser_y_min, laser_y_min], 'black', lw=1)\n",
    "    ax.plot([laser_x_min, laser_x_max], [laser_y_max, laser_y_max], 'black', lw=1)\n",
    "\n",
    "    frames = frames if frames is not None else case_results.total_timesteps\n",
    "    return fig, [animate(i, ax, case_results) for i in range(0, frames, 5)]\n"
   ]
  },
  {
   "cell_type": "code",
   "execution_count": null,
   "metadata": {},
   "outputs": [],
   "source": [
    "fig, ims = animate_laser_trajectory_2d(case_results, case_params)\n",
    "fig.get_axes()[0].set_title(\"Top view of laser position over time\")\n",
    "ani = animation.ArtistAnimation(fig, ims, repeat=True, interval=ANIMATION_FRAME_DURATION, blit=True, repeat_delay=1000)\n",
    "ani.save(PLOT_DIR / \"laser_position.gif\", fps=GIF_FPS, progress_callback=print)"
   ]
  }
 ],
 "metadata": {
  "kernelspec": {
   "display_name": "Python 3",
   "language": "python",
   "name": "python3"
  },
  "language_info": {
   "codemirror_mode": {
    "name": "ipython",
    "version": 3
   },
   "file_extension": ".py",
   "mimetype": "text/x-python",
   "name": "python",
   "nbconvert_exporter": "python",
   "pygments_lexer": "ipython3",
   "version": "3.11.5"
  }
 },
 "nbformat": 4,
 "nbformat_minor": 2
}
