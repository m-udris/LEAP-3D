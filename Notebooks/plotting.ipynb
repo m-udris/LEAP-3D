{
 "cells": [
  {
   "cell_type": "code",
   "execution_count": null,
   "metadata": {},
   "outputs": [],
   "source": [
    "%load_ext autoreload\n",
    "%autoreload 2\n",
    "\n",
    "from pathlib import Path\n",
    "import sys\n",
    "\n",
    "import matplotlib.animation as animation\n",
    "\n",
    "from leap3d.config import DATA_DIR, DATASET_DIR, X_MIN, X_MAX, Y_MIN, Y_MAX, Z_MIN, Z_MAX, SAFETY_OFFSET, MELTING_POINT, TIMESTEP_DURATION\n",
    "from leap3d.scanning import ScanParameters\n",
    "from leap3d.scanning import ScanResults\n",
    "from leap3d.plotting import get_frames_for_temperature_cross_section_animation, \\\n",
    "    get_frames_for_top_layer_temperatures, \\\n",
    "    animate_cross_secion_and_top_player, plot_dataset_histograms\n",
    "\n",
    "from leap3d.laser import get_next_laser_position"
   ]
  },
  {
   "cell_type": "code",
   "execution_count": null,
   "metadata": {},
   "outputs": [],
   "source": [
    "ANIMATION_FRAME_DURATION = 1\n",
    "GIF_FPS = 60\n",
    "PLOT_DIR = Path(\"../Plots/\")"
   ]
  },
  {
   "cell_type": "code",
   "execution_count": null,
   "metadata": {},
   "outputs": [],
   "source": [
    "case_index = 0\n",
    "case_filename = DATA_DIR / \"case_0000.npz\"\n",
    "params_filename =  DATA_DIR / \"Params.npy\"\n",
    "rough_coord_filename =  DATA_DIR / \"Rough_coord.npz\""
   ]
  },
  {
   "cell_type": "code",
   "execution_count": null,
   "metadata": {},
   "outputs": [],
   "source": [
    "case_params = ScanParameters(params_filename, rough_coord_filename, case_index,\n",
    "                             x_min=X_MIN, x_max=X_MAX,\n",
    "                             y_min=Y_MIN, y_max=Y_MAX,\n",
    "                             z_min=Z_MIN, z_max=Z_MAX,\n",
    "                             safety_offset=SAFETY_OFFSET,\n",
    "                             melting_point=MELTING_POINT,\n",
    "                             timestep_duration=TIMESTEP_DURATION)\n",
    "case_params"
   ]
  },
  {
   "cell_type": "code",
   "execution_count": null,
   "metadata": {},
   "outputs": [],
   "source": [
    "case_results = ScanResults(case_filename)"
   ]
  },
  {
   "cell_type": "code",
   "execution_count": null,
   "metadata": {},
   "outputs": [],
   "source": [
    "fig, ims = get_frames_for_top_layer_temperatures(case_results, case_params)\n",
    "fig.get_axes()[0].set_title(\"Top layer view of temperature map over time\")\n",
    "ani = animation.ArtistAnimation(fig, ims, interval=ANIMATION_FRAME_DURATION, blit=True,\n",
    "                                repeat_delay=1000)\n",
    "ani.save(PLOT_DIR / \"top_heatmap.gif\", fps=GIF_FPS)"
   ]
  },
  {
   "cell_type": "code",
   "execution_count": null,
   "metadata": {},
   "outputs": [],
   "source": [
    "fig, ims = get_frames_for_temperature_cross_section_animation(case_results, case_params)"
   ]
  },
  {
   "cell_type": "code",
   "execution_count": null,
   "metadata": {},
   "outputs": [],
   "source": [
    "fig.get_axes()[0].set_title(\"Cross section of temperature map over time\")\n",
    "ani = animation.ArtistAnimation(fig, ims, repeat=True, interval=ANIMATION_FRAME_DURATION, blit=True, repeat_delay=1000)\n",
    "ani.save(PLOT_DIR / \"temperature_cross_section.gif\", fps=GIF_FPS, progress_callback=print)\n"
   ]
  },
  {
   "cell_type": "code",
   "execution_count": null,
   "metadata": {},
   "outputs": [],
   "source": [
    "fig, ims = animate_cross_secion_and_top_player(case_results, case_params)\n",
    "ani = animation.ArtistAnimation(fig, ims, repeat=True, interval=ANIMATION_FRAME_DURATION, blit=True, repeat_delay=1000)\n",
    "ani.save(PLOT_DIR / \"summary.gif\", fps=GIF_FPS, progress_callback=print)"
   ]
  },
  {
   "cell_type": "code",
   "execution_count": null,
   "metadata": {},
   "outputs": [],
   "source": [
    "from torchvision.transforms import transforms\n",
    "from leap3d.dataset import LEAP3DDataset\n",
    "\n",
    "from leap3d.transforms import normalize_temperature_2d\n",
    "\n",
    "\n",
    "normalize_temperature = lambda x: normalize_temperature_2d(x, melting_point=MELTING_POINT, base_temperature=0, inplace=True)\n",
    "\n",
    "train_transforms = transforms.Compose([\n",
    "        transforms.Lambda(normalize_temperature)\n",
    "    ])\n",
    "\n",
    "target_transforms = transforms.Compose([\n",
    "    transforms.Lambda(normalize_temperature)\n",
    "])\n",
    "dataset = LEAP3DDataset(DATASET_DIR, train=True, transform=train_transforms, target_transform=target_transforms)"
   ]
  },
  {
   "cell_type": "code",
   "execution_count": null,
   "metadata": {},
   "outputs": [],
   "source": [
    "z_scores_train, z_scores_target = dataset.get_temperature_z_scores()"
   ]
  },
  {
   "cell_type": "code",
   "execution_count": null,
   "metadata": {},
   "outputs": [],
   "source": [
    "fig, axes = plot_dataset_histograms(dataset)\n",
    "fig.set_figheight(10)\n",
    "fig.set_figwidth(5)\n",
    "fig.savefig(PLOT_DIR / \"dataset_normalized_histogram.png\")"
   ]
  },
  {
   "cell_type": "code",
   "execution_count": null,
   "metadata": {},
   "outputs": [],
   "source": [
    "dataset = LEAP3DDataset(DATASET_DIR, train=True, transform=train_transforms, target_transform=target_transforms)"
   ]
  },
  {
   "cell_type": "code",
   "execution_count": null,
   "metadata": {},
   "outputs": [],
   "source": [
    "fix, axes = plot_dataset_histograms(dataset)\n",
    "fig.set_figheight(10)\n",
    "fig.set_figwidth(5)\n",
    "fig.savefig(PLOT_DIR / \"dataset_histogram.png\")"
   ]
  }
 ],
 "metadata": {
  "kernelspec": {
   "display_name": "Python 3",
   "language": "python",
   "name": "python3"
  },
  "language_info": {
   "codemirror_mode": {
    "name": "ipython",
    "version": 3
   },
   "file_extension": ".py",
   "mimetype": "text/x-python",
   "name": "python",
   "nbconvert_exporter": "python",
   "pygments_lexer": "ipython3",
   "version": "3.11.5"
  }
 },
 "nbformat": 4,
 "nbformat_minor": 2
}
