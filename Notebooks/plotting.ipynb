{
 "cells": [
  {
   "cell_type": "code",
   "execution_count": null,
   "metadata": {},
   "outputs": [],
   "source": [
    "import functools\n",
    "import os\n",
    "from pathlib import Path\n",
    "import sys\n",
    "\n",
    "from dotenv import load_dotenv\n",
    "import matplotlib.animation as animation\n",
    "import matplotlib.pyplot as plt\n",
    "import numpy as np\n",
    "from scipy import interpolate\n",
    "from scipy.spatial import ConvexHull\n",
    "\n",
    "# lowercase leap3d\n",
    "sys.path.insert(0, '..')\n",
    "from leap3d.config import DATA_DIR\n",
    "from leap3d.scanning import ScanParameters\n",
    "from leap3d.scanning import ScanResults\n",
    "from leap3d.plotting import get_frames_for_temperature_cross_section_animation, plot_top_layer_temperature_at_timestep, get_frames_for_top_layer_temperatures"
   ]
  },
  {
   "cell_type": "code",
   "execution_count": null,
   "metadata": {},
   "outputs": [],
   "source": [
    "ANIMATION_FRAME_DURATION = 1\n",
    "GIF_FPS = 60\n",
    "PLOT_DIR = Path(\"../Plots/\")"
   ]
  },
  {
   "cell_type": "code",
   "execution_count": null,
   "metadata": {},
   "outputs": [],
   "source": [
    "case_index = 0\n",
    "case_filename = DATA_DIR / \"case_0000.npz\"\n",
    "params_filename =  DATA_DIR / \"Params.npy\"\n",
    "rough_coord_filename =  DATA_DIR / \"Rough_coord.npz\""
   ]
  },
  {
   "cell_type": "code",
   "execution_count": null,
   "metadata": {},
   "outputs": [],
   "source": [
    "X_MIN, X_MAX = -0.0012, 0.0012\n",
    "Y_MIN, Y_MAX = -0.0012, 0.0012\n",
    "Z_MIN, Z_MAX = -0.0006, 0\n",
    "SAFETY_OFFSET = 0.0005\n",
    "MELTING_POINT = 1723"
   ]
  },
  {
   "cell_type": "code",
   "execution_count": null,
   "metadata": {},
   "outputs": [],
   "source": [
    "case_params = ScanParameters(params_filename, case_index,\n",
    "                             x_min=X_MIN, x_max=X_MAX,\n",
    "                             y_min=Y_MIN, y_max=Y_MAX,\n",
    "                             z_min=Z_MIN, z_max=Z_MAX,\n",
    "                             safety_offset=SAFETY_OFFSET,\n",
    "                             melting_point=MELTING_POINT)\n",
    "case_params"
   ]
  },
  {
   "cell_type": "code",
   "execution_count": null,
   "metadata": {},
   "outputs": [],
   "source": [
    "case_results = ScanResults(case_filename, rough_coord_filename)"
   ]
  },
  {
   "cell_type": "code",
   "execution_count": null,
   "metadata": {},
   "outputs": [],
   "source": [
    "fig, ims = get_frames_for_top_layer_temperatures(case_results, case_params)\n",
    "fig.get_axes()[0].set_title(\"Top layer view of temperature map over time\")\n",
    "ani = animation.ArtistAnimation(fig, ims, interval=ANIMATION_FRAME_DURATION, blit=True,\n",
    "                                repeat_delay=1000)\n",
    "ani.save(PLOT_DIR / \"top_heatmap.gif\", fps=GIF_FPS)"
   ]
  },
  {
   "cell_type": "code",
   "execution_count": null,
   "metadata": {},
   "outputs": [],
   "source": [
    "# fig, ims = get_frames_for_top_layer_temperatures(case_results, case_params, show_only_melt=True)\n",
    "# fig.get_axes()[0].set_title(\"Top layer view of melt pool over time\")\n",
    "# ani = animation.ArtistAnimation(fig, ims, interval=ANIMATION_FRAME_DURATION, blit=True,\n",
    "#                                 repeat_delay=1000)\n",
    "# ani.save(PLOT_DIR / \"top_melt.gif\", fps=GIF_FPS)"
   ]
  },
  {
   "cell_type": "code",
   "execution_count": null,
   "metadata": {},
   "outputs": [],
   "source": [
    "fig, ims = get_frames_for_temperature_cross_section_animation(case_results, case_params)"
   ]
  },
  {
   "cell_type": "code",
   "execution_count": null,
   "metadata": {},
   "outputs": [],
   "source": [
    "fig.get_axes()[0].set_title(\"Cross section of temperature map over time\")\n",
    "ani = animation.ArtistAnimation(fig, ims, repeat=True, interval=ANIMATION_FRAME_DURATION, blit=True, repeat_delay=1000)\n",
    "ani.save(PLOT_DIR / \"temperature_cross_section.gif\", fps=GIF_FPS, progress_callback=print)\n"
   ]
  },
  {
   "cell_type": "code",
   "execution_count": null,
   "metadata": {},
   "outputs": [],
   "source": [
    "# fig, ims = get_frames_for_temperature_cross_section_animation(case_results, case_params, show_only_melt=True)"
   ]
  },
  {
   "cell_type": "code",
   "execution_count": null,
   "metadata": {},
   "outputs": [],
   "source": [
    "# fig.get_axes()[0].set_title(\"Cross section of melt pool over time\")\n",
    "# ani = animation.ArtistAnimation(fig, ims, repeat=True, interval=ANIMATION_FRAME_DURATION, blit=True, repeat_delay=1000)\n",
    "# ani.save(PLOT_DIR / \"melt_cross_section.gif\", fps=GIF_FPS, progress_callback=print)"
   ]
  },
  {
   "cell_type": "code",
   "execution_count": null,
   "metadata": {},
   "outputs": [],
   "source": [
    "coordinates, temperature = case_results.get_melt_pool_coordinates_and_temperature(1800)\n",
    "\n",
    "coordinates = np.array(coordinates)\n",
    "hull = ConvexHull(coordinates)\n",
    "\n",
    "fig = plt.figure()\n",
    "ax = fig.add_subplot(111, projection=\"3d\")\n",
    "\n",
    "for s in hull.simplices:\n",
    "    s = np.append(s, s[0])\n",
    "    ax.plot(coordinates[s, 0], coordinates[s, 1], coordinates[s, 2], \"r-\")\n",
    "\n",
    "# Make axis label\n",
    "for i in [\"x\", \"y\", \"z\"]:\n",
    "    eval(\"ax.set_{:s}label('{:s}')\".format(i, i))\n",
    "\n",
    "# ax.set_xlim(case_params.x_min, case_params.x_max)\n",
    "# ax.set_ylim(case_params.y_min, case_params.y_max)\n",
    "# ax.set_zlim(case_params.z_min, case_params.z_max)\n",
    "\n",
    "plt.show()"
   ]
  }
 ],
 "metadata": {
  "kernelspec": {
   "display_name": "Python 3",
   "language": "python",
   "name": "python3"
  },
  "language_info": {
   "codemirror_mode": {
    "name": "ipython",
    "version": 3
   },
   "file_extension": ".py",
   "mimetype": "text/x-python",
   "name": "python",
   "nbconvert_exporter": "python",
   "pygments_lexer": "ipython3",
   "version": "3.11.5"
  }
 },
 "nbformat": 4,
 "nbformat_minor": 2
}
