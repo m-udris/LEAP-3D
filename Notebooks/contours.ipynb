{
 "cells": [
  {
   "cell_type": "code",
   "execution_count": null,
   "metadata": {},
   "outputs": [],
   "source": [
    "from pathlib import Path\n",
    "\n",
    "import numpy as np\n",
    "import matplotlib.pyplot as plt\n",
    "\n",
    "from leap3d.contour import get_melting_pool_contour_2d, get_melting_pool_contour_3d\n",
    "from leap3d.scanning.scan_parameters import ScanParameters\n",
    "from leap3d.scanning.scan_results import ScanResults\n",
    "from leap3d.config import DATA_DIR, PARAMS_FILEPATH, ROUGH_COORDS_FILEPATH, MELTING_POINT\n",
    "from leap3d.plotting import plot_2d_contours, plot_fake_3d_contours, plot_3d_contours_vertices, plot_3d_contours_faces, plot_cross_section_along_laser_at_timestep"
   ]
  },
  {
   "cell_type": "code",
   "execution_count": null,
   "metadata": {},
   "outputs": [],
   "source": [
    "precompute_path = Path(\"../data/\")\n",
    "\n",
    "t_start = 2000\n",
    "steps = 1000\n",
    "steps_per_file = 100\n"
   ]
  },
  {
   "cell_type": "code",
   "execution_count": null,
   "metadata": {},
   "outputs": [],
   "source": [
    "def get_data(case_id, t_start, timestep, steps_per_file):\n",
    "    t = (timestep - t_start) // steps_per_file\n",
    "    interpolated_3d_data = np.load(precompute_path / f\"case_{case_id:04d}_interpolated_3d_data_{t:04d}.npy\")\n",
    "    laser_coordinates = np.load(precompute_path / f\"case_{case_id:04d}_laser_coordinates_{t:04d}.npy\")\n",
    "\n",
    "    return interpolated_3d_data, laser_coordinates, t"
   ]
  },
  {
   "cell_type": "code",
   "execution_count": null,
   "metadata": {},
   "outputs": [],
   "source": [
    "current_data_index = -1\n",
    "loaded_case_id = -1"
   ]
  },
  {
   "cell_type": "code",
   "execution_count": null,
   "metadata": {},
   "outputs": [],
   "source": [
    "case_id = 0\n",
    "# timestemps: 2000 onwards\n",
    "\n",
    "# case_id = 1\n",
    "# timesteps: 2165\n",
    "\n",
    "case_id = 0\n",
    "# timesteps: 2000 - 2016\n",
    "current_timestep = 2000\n",
    "show_n_top_layers = 24"
   ]
  },
  {
   "cell_type": "code",
   "execution_count": null,
   "metadata": {},
   "outputs": [],
   "source": [
    "if loaded_case_id != case_id:\n",
    "    loaded_case_id = case_id\n",
    "    scan_results = ScanResults(DATA_DIR / f\"case_{case_id:04d}.npz\")\n",
    "    scan_parameters = ScanParameters(PARAMS_FILEPATH, ROUGH_COORDS_FILEPATH, case_id)"
   ]
  },
  {
   "cell_type": "code",
   "execution_count": null,
   "metadata": {},
   "outputs": [],
   "source": [
    "t = current_timestep - t_start\n",
    "if t // steps_per_file != current_data_index:\n",
    "    interpolated_3d_data, laser_coordinates_list, current_data_index = get_data(case_id, t_start, current_timestep, steps_per_file)\n",
    "t = t % steps_per_file"
   ]
  },
  {
   "cell_type": "code",
   "execution_count": null,
   "metadata": {},
   "outputs": [],
   "source": [
    "temperature = interpolated_3d_data[t]\n",
    "laser_coordinates = laser_coordinates_list[t]"
   ]
  },
  {
   "cell_type": "code",
   "execution_count": null,
   "metadata": {},
   "outputs": [],
   "source": [
    "contours_2d = get_melting_pool_contour_2d(temperature, top_k=show_n_top_layers)\n",
    "vertices_3d, faces_3d = get_melting_pool_contour_3d(temperature, top_k=show_n_top_layers)"
   ]
  },
  {
   "cell_type": "code",
   "execution_count": null,
   "metadata": {},
   "outputs": [],
   "source": [
    "temperature_high_res = scan_results.get_melt_pool_temperature_grid(timestep=current_timestep)\n",
    "vertices_hr_3d, faces_hr_3d = get_melting_pool_contour_3d(temperature_high_res, top_k=show_n_top_layers)"
   ]
  },
  {
   "cell_type": "code",
   "execution_count": null,
   "metadata": {},
   "outputs": [],
   "source": [
    "fig = plt.figure(figsize=(20, 20))\n",
    "axes = []\n",
    "axes.append(fig.add_subplot(3, 3, 1))\n",
    "axes.append(fig.add_subplot(3, 3, 2))\n",
    "axes.append(fig.add_subplot(3, 3, 3, projection='3d'))\n",
    "axes.append(fig.add_subplot(3, 3, 4, projection='3d'))\n",
    "axes.append(fig.add_subplot(3, 3, 5, projection='3d'))\n",
    "\n",
    "ax = axes[0]\n",
    "ax.set_aspect('equal')\n",
    "ax.set_title(\"Top view\")\n",
    "im = ax.imshow(temperature[:, :, -1], vmin=300, vmax=1500, cmap='hot')\n",
    "\n",
    "_ = plot_2d_contours(contours_2d[0], ax)\n",
    "\n",
    "ax = axes[1]\n",
    "ax.set_title(\"Cross section\")\n",
    "# ax.set_ylim(64 - show_n_top_layers, 64)\n",
    "plot_cross_section_along_laser_at_timestep(ax, scan_results, scan_parameters, current_timestep)\n",
    "# (new_x_grid, new_z_grid, T_values) = cross_sections[0]\n",
    "# new_z_grid = ((new_z_grid + 0.0006) / 0.0006) * 64\n",
    "# im = ax.pcolormesh(new_x_grid, new_z_grid, T_values, vmin=300, vmax=1500, cmap='hot')\n",
    "\n",
    "ax = axes[2]\n",
    "ax.set_title(\"Layered 2D contours\")\n",
    "_ = plot_fake_3d_contours(contours_2d, max_n_layers=temperature.shape[2], ax=ax)\n",
    "\n",
    "ax = axes[3]\n",
    "ax.set_title(\"3D contour\")\n",
    "ax.set_aspect('equal')\n",
    "offset = 10\n",
    "ax.set_xlim(laser_coordinates[0] - offset, laser_coordinates[0] + offset)\n",
    "ax.set_ylim(laser_coordinates[1] - offset, laser_coordinates[1] + offset)\n",
    "ax.set_zlim(64 - show_n_top_layers, 64)\n",
    "if len(vertices_3d) > 0:\n",
    "    plot_3d_contours_faces(vertices_3d, faces_3d, ax)[0]\n",
    "\n",
    "ax = axes[4]\n",
    "ax.set_title(\"3D contour high res only\")\n",
    "ax.set_aspect('equal')\n",
    "offset = 10\n",
    "ax.set_xlim(laser_coordinates[0] - offset, laser_coordinates[0] + offset)\n",
    "ax.set_ylim(laser_coordinates[1] - offset, laser_coordinates[1] + offset)\n",
    "ax.set_zlim(64 - show_n_top_layers, 64)\n",
    "if len(vertices_hr_3d) > 0:\n",
    "    plot_3d_contours_faces(vertices_hr_3d, faces_hr_3d, ax)[0]"
   ]
  },
  {
   "cell_type": "code",
   "execution_count": null,
   "metadata": {},
   "outputs": [],
   "source": [
    "fig, ax = plt.subplots()\n",
    "ax.set_aspect('equal')\n",
    "im = ax.imshow(temperature[:, :, -1], vmin=300, vmax=1500, cmap='hot')\n",
    "\n",
    "_ = plot_2d_contours(contours_2d[0], ax)"
   ]
  },
  {
   "cell_type": "code",
   "execution_count": null,
   "metadata": {},
   "outputs": [],
   "source": [
    "fig, ax = plt.subplots(1, 1, figsize=(10, 10))\n",
    "plot_cross_section_along_laser_at_timestep(ax, scan_results, scan_parameters, current_timestep)"
   ]
  },
  {
   "cell_type": "code",
   "execution_count": null,
   "metadata": {},
   "outputs": [],
   "source": [
    "fig = plt.figure()\n",
    "ax = fig.add_subplot(111, projection='3d')\n",
    "_ = plot_fake_3d_contours(contours_2d, max_n_layers=temperature.shape[2], ax=ax)"
   ]
  },
  {
   "cell_type": "code",
   "execution_count": null,
   "metadata": {},
   "outputs": [],
   "source": [
    "fig = plt.figure()\n",
    "ax.set_aspect('equal')\n",
    "ax = fig.add_subplot(111, projection='3d')\n",
    "offset = 10\n",
    "ax.set_xlim(laser_coordinates[0] - offset, laser_coordinates[0] + offset)\n",
    "ax.set_ylim(laser_coordinates[1] - offset, laser_coordinates[1] + offset)\n",
    "ax.set_zlim(64 - show_n_top_layers, 64)\n",
    "plot_3d_contours_faces(vertices_3d, faces_3d, ax)[0]"
   ]
  },
  {
   "cell_type": "code",
   "execution_count": null,
   "metadata": {},
   "outputs": [],
   "source": [
    "rescale = lambda x: (x / 256) * 2 * 0.0006\n",
    "x_offset = -10\n",
    "y_offset = -10\n",
    "gt_laser_x, gt_laser_y = scan_results.get_laser_coordinates_at_timestep(current_timestep)\n",
    "print(gt_laser_x, gt_laser_y)\n",
    "new_laser_position = gt_laser_x + rescale(x_offset), gt_laser_y + rescale(y_offset)\n",
    "print(new_laser_position)"
   ]
  },
  {
   "cell_type": "code",
   "execution_count": null,
   "metadata": {},
   "outputs": [],
   "source": [
    "fig, ax = plt.subplots()\n",
    "plot_cross_section_along_laser_at_timestep(ax, scan_results, scan_parameters, current_timestep, use_laser_position=new_laser_position)"
   ]
  }
 ],
 "metadata": {
  "kernelspec": {
   "display_name": "Python 3",
   "language": "python",
   "name": "python3"
  },
  "language_info": {
   "codemirror_mode": {
    "name": "ipython",
    "version": 3
   },
   "file_extension": ".py",
   "mimetype": "text/x-python",
   "name": "python",
   "nbconvert_exporter": "python",
   "pygments_lexer": "ipython3",
   "version": "3.11.5"
  }
 },
 "nbformat": 4,
 "nbformat_minor": 2
}
