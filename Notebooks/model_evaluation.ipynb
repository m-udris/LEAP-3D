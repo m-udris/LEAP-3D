{
 "cells": [
  {
   "cell_type": "code",
   "execution_count": null,
   "metadata": {},
   "outputs": [],
   "source": [
    "from pathlib import Path\n",
    "\n",
    "from matplotlib import animation\n",
    "from matplotlib import pyplot as plt\n",
    "import numpy as np\n",
    "import matplotlib\n",
    "from mpl_toolkits.axes_grid1 import make_axes_locatable\n",
    "\n",
    "from leap3d.scanning import ScanParameters\n",
    "from leap3d.config import DATA_DIR, DATASET_DIR, PARAMS_FILEPATH, ROUGH_COORDS_FILEPATH, NUM_WORKERS, MELTING_POINT\n",
    "from leap3d.plotting import plot_top_layer_temperature\n",
    "from leap3d.dataset import LEAP3DDataModule\n",
    "from leap3d.models import LEAP3D_UNet2D\n",
    "from leap3d.callbacks import get_recursive_model_predictions, get_r2_scores, get_absolute_error, get_relative_error\n",
    "from leap3d.train import DEFAULT_EXTRA_PARAMS, DEFAULT_TRAIN_TRANSFORM_2D, DEFAULT_TARGET_TRANSFORM_2D, DEFAULT_EXTRA_PARAMS_TRANSFORM, DEFAULT_TARGET_TRANSFORM_INVERSE_2D, DEFAULT_TRAIN_TRANSFORM_INVERSE_2D, DEFAULT_TARGET_TO_TRAIN_TRANSFORM"
   ]
  },
  {
   "cell_type": "code",
   "execution_count": null,
   "metadata": {},
   "outputs": [],
   "source": [
    "scan_params = ScanParameters(PARAMS_FILEPATH, ROUGH_COORDS_FILEPATH, case_index=20)\n",
    "plot_dir = Path(\"./Plots/\")"
   ]
  },
  {
   "cell_type": "code",
   "execution_count": null,
   "metadata": {},
   "outputs": [],
   "source": [
    "model_name = \"unet2d_p_w5_l1_loss_b32\""
   ]
  },
  {
   "cell_type": "code",
   "execution_count": null,
   "metadata": {},
   "outputs": [],
   "source": [
    "checkpoint_filepath = f\"./model_checkpoints/{model_name}.ckpt\"\n",
    "\n",
    "model = LEAP3D_UNet2D.load_from_checkpoint(checkpoint_filepath)\n",
    "model.transform = DEFAULT_TARGET_TO_TRAIN_TRANSFORM\n",
    "model.eval()"
   ]
  },
  {
   "cell_type": "code",
   "execution_count": null,
   "metadata": {},
   "outputs": [],
   "source": [
    "datamodule = LEAP3DDataModule(\n",
    "        PARAMS_FILEPATH, ROUGH_COORDS_FILEPATH, DATA_DIR, DATASET_DIR,\n",
    "        is_3d=False,\n",
    "        batch_size=128,\n",
    "        train_cases=[], test_cases=[], eval_cases=[20],\n",
    "        window_size=5, window_step_size=5,\n",
    "        num_workers=NUM_WORKERS,\n",
    "        extra_params=DEFAULT_EXTRA_PARAMS,\n",
    "        transform = DEFAULT_TRAIN_TRANSFORM_2D,\n",
    "        target_transform = DEFAULT_TARGET_TRANSFORM_2D,\n",
    "        extra_params_transform = DEFAULT_EXTRA_PARAMS_TRANSFORM,\n",
    "        transform_inverse = DEFAULT_TRAIN_TRANSFORM_INVERSE_2D,\n",
    "        target_transform_inverse = DEFAULT_TARGET_TRANSFORM_INVERSE_2D,\n",
    "        force_prepare=False\n",
    "    )\n",
    "datamodule.prepare_data()\n",
    "datamodule.setup(stage=\"\")"
   ]
  },
  {
   "cell_type": "code",
   "execution_count": null,
   "metadata": {},
   "outputs": [],
   "source": [
    "dataset = datamodule.leap_eval"
   ]
  },
  {
   "cell_type": "code",
   "execution_count": null,
   "metadata": {},
   "outputs": [],
   "source": [
    "x_gt_values = []\n",
    "y_values = []\n",
    "y_hat_values = []\n",
    "x_pred_values = []\n",
    "for x, y, y_hat, x_pred_temperature in get_recursive_model_predictions(model, dataset):\n",
    "    print(len(x_gt_values), end=\"\\r\")\n",
    "    x_gt_values.append(x)\n",
    "    y_values.append(y)\n",
    "    y_hat_values.append(y_hat)\n",
    "    x_pred_values.append(x_pred_temperature)"
   ]
  },
  {
   "cell_type": "code",
   "execution_count": null,
   "metadata": {},
   "outputs": [],
   "source": [
    "relative_errors = get_relative_error(x_pred_values, x_gt_values[1:],)\n",
    "plt.plot(relative_errors)"
   ]
  },
  {
   "cell_type": "code",
   "execution_count": null,
   "metadata": {},
   "outputs": [],
   "source": [
    "absolute_errors = get_absolute_error(x_pred_values, x_gt_values[1:])\n",
    "plt.plot(absolute_errors)"
   ]
  },
  {
   "cell_type": "code",
   "execution_count": null,
   "metadata": {},
   "outputs": [],
   "source": [
    "r2_temperature_scores, r2_temperature_numerators, r2_temperature_denominators = get_r2_scores(x_pred_values, x_gt_values[1:], return_parts=True)\n",
    "r2_temperature_difference_scores, r2_temperature_difference_numerators, r2_temperature_difference_denominators =  get_r2_scores(y_hat_values, y_values, return_parts=True)"
   ]
  },
  {
   "cell_type": "code",
   "execution_count": null,
   "metadata": {},
   "outputs": [],
   "source": [
    "plt.plot(r2_temperature_scores)"
   ]
  },
  {
   "cell_type": "code",
   "execution_count": null,
   "metadata": {},
   "outputs": [],
   "source": [
    "plt.plot(r2_temperature_difference_scores)"
   ]
  },
  {
   "cell_type": "code",
   "execution_count": null,
   "metadata": {},
   "outputs": [],
   "source": [
    "timestep = 0"
   ]
  },
  {
   "cell_type": "code",
   "execution_count": null,
   "metadata": {},
   "outputs": [],
   "source": [
    "fig, axes = plt.subplots(ncols=2, nrows=4)\n",
    "fig.set_size_inches(15, 15)\n",
    "for ax in axes.flatten():\n",
    "    ax.set_aspect('equal')\n",
    "ax1, ax2, ax3, ax4, ax5, ax6, ax7, ax8 = axes.flatten()"
   ]
  },
  {
   "cell_type": "code",
   "execution_count": null,
   "metadata": {},
   "outputs": [],
   "source": [
    "def plot_model_at_timestep(timestep, setup=False):\n",
    "    x = x_gt_values[timestep]\n",
    "    y = y_values[timestep]\n",
    "    next_x_gt = x_gt_values[timestep + 1]\n",
    "    next_x_gt_calculated = model.get_predicted_temperature(x, y)\n",
    "\n",
    "    y_hat = y_hat_values[timestep]\n",
    "    next_x_p = x_pred_values[timestep]\n",
    "\n",
    "    r2_temperature = r2_temperature_scores[timestep]\n",
    "    r2_temperature_numerator = r2_temperature_numerators[timestep]\n",
    "    r2_temperature_denominator = r2_temperature_denominators[timestep]\n",
    "\n",
    "    r2_temperature_difference = r2_temperature_difference_scores[timestep]\n",
    "    r2_temperature_difference_numerator = r2_temperature_difference_numerators[timestep]\n",
    "    r2_temperature_difference_denominator = r2_temperature_difference_denominators[timestep]\n",
    "\n",
    "    fig.suptitle(f\"timestep={timestep}\")\n",
    "\n",
    "    ax1.set_title(\"Ground Truth Temperature\")\n",
    "    im1 = plot_top_layer_temperature(ax1, x, scan_params, vmin=0, vmax=1)\n",
    "\n",
    "    ax2.set_title(\"Ground Truth Next Temperature\")\n",
    "    im2 = plot_top_layer_temperature(ax2, next_x_gt, scan_params, vmin=0, vmax=1)\n",
    "\n",
    "    ax3.set_title(\"Calculated Ground Truth Next Temperature\")\n",
    "    im3 = plot_top_layer_temperature(ax3, next_x_gt_calculated, scan_params, vmin=0, vmax=1)\n",
    "\n",
    "    ax4.set_title(\"Ground Truth Temperature Difference\")\n",
    "    im4 = plot_top_layer_temperature(ax4, y, scan_params, vmin=-100, vmax=100, cmap='seismic')\n",
    "\n",
    "    ax5.set_title(f\"Predicted Next Temperature, R2={r2_temperature:.3f} ({r2_temperature_numerator:.6f}/{r2_temperature_denominator:.6f})\")\n",
    "    im5 = plot_top_layer_temperature(ax5, next_x_p, scan_params, vmin=0, vmax=1)\n",
    "\n",
    "    ax6.set_title(f\"Predicted Temperature Difference, R2={r2_temperature_difference:.3f} ({r2_temperature_difference_numerator:.6f}/{r2_temperature_difference_denominator:.6f})\")\n",
    "    im6 = plot_top_layer_temperature(ax6, y_hat, scan_params, vmin=-100, vmax=100, cmap='seismic')\n",
    "\n",
    "    ax7.set_title(\"Temperature Error\")\n",
    "    im7 = plot_top_layer_temperature(ax7, next_x_p - next_x_gt, scan_params, vmin=-1, vmax=1, cmap='seismic')\n",
    "\n",
    "    ax8.set_title(\"Temperature Difference Error\")\n",
    "    im8 = plot_top_layer_temperature(ax8, y_hat - y, scan_params, vmin=-100, vmax=100, cmap='seismic')\n",
    "\n",
    "    ims = [im1, im2, im3, im4, im5, im6, im7, im8]\n",
    "\n",
    "    if setup:\n",
    "        for ax, im in zip(axes.flatten(), ims):\n",
    "            divider = make_axes_locatable(ax)\n",
    "            cax = divider.append_axes('right', size='5%', pad=0.05)\n",
    "            fig.colorbar(im, cax=cax, orientation='vertical')\n",
    "\n",
    "    return [im1, im2, im3, im4, im5, im6, im7, im8]"
   ]
  },
  {
   "cell_type": "code",
   "execution_count": null,
   "metadata": {},
   "outputs": [],
   "source": [
    "frames_step = 5\n",
    "num_frames = len(x_gt_values) - 1 // frames_step\n",
    "t_start = 1000\n",
    "\n",
    "num_frames = 100\n"
   ]
  },
  {
   "cell_type": "code",
   "execution_count": null,
   "metadata": {},
   "outputs": [],
   "source": [
    "ani = matplotlib.animation.FuncAnimation(fig, lambda t: plot_model_at_timestep(t_start + frames_step + t*frames_step), frames=num_frames, blit=True, interval=500, repeat_delay=1000, init_func=lambda: plot_model_at_timestep(t_start, setup=True))\n",
    "\n",
    "animation_filepath = \"./Plots/model_full_rolout.mp4\"\n",
    "ani.save(animation_filepath, fps=2, progress_callback=lambda frame_number, _: print(f\"{frame_number}\", end=\"\\r\"))"
   ]
  }
 ],
 "metadata": {
  "kernelspec": {
   "display_name": "Python 3",
   "language": "python",
   "name": "python3"
  },
  "language_info": {
   "codemirror_mode": {
    "name": "ipython",
    "version": 3
   },
   "file_extension": ".py",
   "mimetype": "text/x-python",
   "name": "python",
   "nbconvert_exporter": "python",
   "pygments_lexer": "ipython3",
   "version": "3.11.5"
  }
 },
 "nbformat": 4,
 "nbformat_minor": 2
}
